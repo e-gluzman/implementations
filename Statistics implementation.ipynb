{
 "cells": [
  {
   "cell_type": "markdown",
   "metadata": {},
   "source": [
    "This notebook contains implementations of statistics methods from first principles\n",
    "\n",
    "Done:\n",
    "Mean, variance, standard deviation, z-scores, correlation, linear regression. "
   ]
  },
  {
   "cell_type": "code",
   "execution_count": 51,
   "metadata": {},
   "outputs": [],
   "source": [
    "# Load some data from a test I took\n",
    "\n",
    "country = ['Russia', 'Turkey', 'Hungary', 'Poland', 'Slovak Republic', 'Estonia', 'Greece', 'Portugal', 'Slovenia', 'Spain', 'Korea', 'Italy', 'Japan', 'Israel', 'New Zealand', 'France', 'Belgium', 'Germany', 'Finland', 'Canada', 'Netherlands', 'Austria', 'United Kingdom', 'Sweden', 'Iceland', 'Australia', 'Ireland', 'Denmark', 'United States', 'Brazil', 'Mexico', 'Chile', 'Norway', 'Switzerland']\n",
    "gdp_per_capita = [9054.91, 9437.37, 12239.89, 12495.33, 15991.74, 17288.08, 18064.29, 19121.59, 20732.48, 25864.72, 27195.2, 29866.58, 32485.55, 35343.34, 37044.89, 37675.01, 40106.63, 40996.51, 41973.99, 43331.96, 43603.12, 43724.03, 43770.69, 49866.27, 50854.58, 50961.87, 51350.74, 52114.17, 55805.2, 8670.0, 10009.28, 13340.91, 74822.11, 80675.31]\n",
    "happiness_index = [6.0, 5.6, 5.2, 5.8, 6.1, 5.6, 5.8, 5.4, 5.7, 6.5, 5.8, 6.0, 5.9, 7.4, 7.3, 6.5, 6.9, 7.0, 7.4, 7.3, 7.3, 6.9, 6.8, 7.2, 7.5, 7.3, 7.0, 7.5, 7.2, 6.0, 6.2, 6.3, 7.5, 7.7]\n",
    "generosity = [-0.03800833598, 0.01134008635, -0.03188855574, 0.4699645638, 0.08676241338, 0.043273504819999996, 0.08824136853, -0.09545145184, 0.10158070179999999, 0.04471550137, -0.17993772030000002, 0.09600263089, 0.005692420062, 0.03664433956, -0.007062926422999999, -0.2229295373, 0.13624751570000002, 0.07180630416, -0.01933417283, -0.03838358073999999, 0.4209863842, 0.05710758641, -0.2590840161, 0.1417565197, 0.06506087631, -0.10859531160000001, -0.1550479978, -0.09851144999, -0.2627381086, 0.11675003169999999, -0.02549606189, 0.2219981402, 0.1377954036, 0.09796612710000001]\n",
    "confidence_in_national_government = [0.3237580955, 0.2774777114, 0.35244044659999996, 0.3239920437, 0.2392746359, 0.3276586235, 0.9693563581, 0.1681866497, 0.22635130579999999, 0.40208518509999996, 0.4202025831, 0.6053644418999999, 0.6150319576, 0.2748695016, 0.4761449993, 0.5206306577, 0.3995882273, 0.3989136815, 0.1971623003, 0.2540971637, 0.619251132, 0.8020071387000001, 0.38908401130000003, 0.6392197609, 0.34346687789999997, 0.3848803937, 0.2613522708, 0.23763185739999998, 0.20240309829999997, 0.6424612403, 0.7552008629000001, 0.42085987329999996, 0.46883687380000005, 0.6104668975]"
   ]
  },
  {
   "cell_type": "code",
   "execution_count": 2,
   "metadata": {},
   "outputs": [
    {
     "data": {
      "text/plain": [
       "33996.42176470589"
      ]
     },
     "execution_count": 2,
     "metadata": {},
     "output_type": "execute_result"
    }
   ],
   "source": [
    "def MEANSTAT(x):\n",
    "    return float(sum(x))/len(x)\n",
    "\n",
    "MEANSTAT(gdp_per_capita)\n"
   ]
  },
  {
   "cell_type": "code",
   "execution_count": 18,
   "metadata": {},
   "outputs": [
    {
     "data": {
      "text/plain": [
       "338506254.2590322"
      ]
     },
     "execution_count": 18,
     "metadata": {},
     "output_type": "execute_result"
    }
   ],
   "source": [
    "def VARSTAT(x):\n",
    "    \n",
    "    # errors\n",
    "    x = [i - MEANSTAT(x) for i in x]\n",
    "    \n",
    "    # squares\n",
    "    x = [i**2 for i in x]\n",
    "\n",
    "    # sum of squares\n",
    "    SS = sum(x)\n",
    "    \n",
    "    # variance\n",
    "    var = SS/len(x)\n",
    "    \n",
    "    return var\n",
    "    \n",
    "\n",
    "VARSTAT(gdp_per_capita)\n"
   ]
  },
  {
   "cell_type": "code",
   "execution_count": 19,
   "metadata": {},
   "outputs": [
    {
     "data": {
      "text/plain": [
       "18398.53945994171"
      ]
     },
     "execution_count": 19,
     "metadata": {},
     "output_type": "execute_result"
    }
   ],
   "source": [
    "def SDSTAT(x):\n",
    "    \n",
    "    import math\n",
    "    \n",
    "    return math.sqrt(VARSTAT(x))\n",
    "\n",
    "SDSTAT(gdp_per_capita)"
   ]
  },
  {
   "cell_type": "code",
   "execution_count": 53,
   "metadata": {},
   "outputs": [
    {
     "data": {
      "text/plain": [
       "[-1.3556245493839276,\n",
       " -1.3348370297640841,\n",
       " -1.1825140692322553,\n",
       " -1.1686303584868367,\n",
       " -0.9785929912483898,\n",
       " -0.9081341375539178,\n",
       " -0.8659454626490426,\n",
       " -0.808478944597324,\n",
       " -0.7209236251380094,\n",
       " -0.4419753960585115,\n",
       " -0.36966096029056417,\n",
       " -0.22446573945163434,\n",
       " -0.08211911429140571,\n",
       " 0.07320788904068658,\n",
       " 0.16569077354924822,\n",
       " 0.1999391442621482,\n",
       " 0.33210289591723197,\n",
       " 0.38046977862210646,\n",
       " 0.4335979088265837,\n",
       " 0.507406484934304,\n",
       " 0.5221446113269117,\n",
       " 0.5287163286234531,\n",
       " 0.5312523994948173,\n",
       " 0.8625602195134453,\n",
       " 0.9162769833985247,\n",
       " 0.9221084245427307,\n",
       " 0.943244341382579,\n",
       " 0.9847383959330601,\n",
       " 1.1853537767374065,\n",
       " -1.3765452317477667,\n",
       " -1.303752497144243,\n",
       " -1.1226712756019674,\n",
       " 2.218963539153855,\n",
       " 2.537097487380773]"
      ]
     },
     "execution_count": 53,
     "metadata": {},
     "output_type": "execute_result"
    }
   ],
   "source": [
    "def ZSTAT(x):\n",
    "    \n",
    "    x = [(i - MEANSTAT(x))/SDSTAT(x) for i in x]\n",
    "    \n",
    "    return x\n",
    "    \n",
    "ZSTAT(gdp_per_capita)"
   ]
  },
  {
   "cell_type": "code",
   "execution_count": 77,
   "metadata": {},
   "outputs": [
    {
     "data": {
      "text/plain": [
       "0.8727488193236118"
      ]
     },
     "execution_count": 77,
     "metadata": {},
     "output_type": "execute_result"
    }
   ],
   "source": [
    "def CORRSTAT(x,y):\n",
    "    \n",
    "    #if len(x) == len(y):\n",
    "\n",
    "    x = ZSTAT(x)\n",
    "        \n",
    "    y = ZSTAT(y)\n",
    "        \n",
    "    product = [a * b for a,b in zip(x,y)]\n",
    "        \n",
    "    return (float(1)/(len(x) - 1)) * sum(product) \n",
    "              \n",
    "CORRSTAT(gdp_per_capita,happiness_index)"
   ]
  },
  {
   "cell_type": "code",
   "execution_count": 98,
   "metadata": {},
   "outputs": [
    {
     "data": {
      "text/plain": [
       "(3.4840153326478235e-05, 5.39203004140132)"
      ]
     },
     "execution_count": 98,
     "metadata": {},
     "output_type": "execute_result"
    }
   ],
   "source": [
    "def REGSTAT(x,y):\n",
    "    r = CORRSTAT(x,y)\n",
    "    b = r * ((SDSTAT(y)/SDSTAT(x)))\n",
    "    intercept = MEANSTAT(y) - MEANSTAT(x) * b \n",
    "    return b,intercept\n",
    "\n",
    "REGSTAT(gdp_per_capita,happiness_index)"
   ]
  },
  {
   "cell_type": "code",
   "execution_count": 104,
   "metadata": {},
   "outputs": [
    {
     "data": {
      "image/png": "[encoded data removed]",
      "text/plain": [
       "<Figure size 432x288 with 1 Axes>"
      ]
     },
     "metadata": {},
     "output_type": "display_data"
    }
   ],
   "source": [
    "def plot_REGLINE(x,y):\n",
    "    \n",
    "    b, intercept = REGSTAT(x,y)\n",
    "\n",
    "    ypred = [i * b + intercept for i in x]\n",
    "\n",
    "    import matplotlib.pyplot as plt  \n",
    "    \n",
    "    plt.scatter(x, y,  color='black')\n",
    "    plt.plot(x, ypred, color='blue', linewidth=3)\n",
    "\n",
    "    plt.xticks(())\n",
    "    plt.yticks(())\n",
    "\n",
    "    plt.show()\n",
    "    \n",
    "plot_REGSTAT(gdp_per_capita,happiness_index)"
   ]
  },
  {
   "cell_type": "markdown",
   "metadata": {},
   "source": [
    "I am testing the functions below by comparing them to commonly used implementations"
   ]
  },
  {
   "cell_type": "code",
   "execution_count": 76,
   "metadata": {},
   "outputs": [
    {
     "data": {
      "text/plain": [
       "array([[1.        , 0.84707974],\n",
       "       [0.84707974, 1.        ]])"
      ]
     },
     "execution_count": 76,
     "metadata": {},
     "output_type": "execute_result"
    }
   ],
   "source": [
    "import numpy\n",
    "\n",
    "#numpy.mean(gdp_per_capita)\n",
    "\n",
    "#numpy.var(gdp_per_capita)\n",
    "\n",
    "#numpy.std(gdp_per_capita)\n",
    "\n",
    "numpy.corrcoef(gdp_per_capita,happiness_index)"
   ]
  },
  {
   "cell_type": "code",
   "execution_count": 87,
   "metadata": {},
   "outputs": [
    {
     "data": {
      "image/png": "[encoded data removed]",
      "text/plain": [
       "<Figure size 432x288 with 1 Axes>"
      ]
     },
     "metadata": {
      "needs_background": "light"
     },
     "output_type": "display_data"
    }
   ],
   "source": [
    "import numpy as np\n",
    "\n",
    "import pandas as pd\n",
    "\n",
    "from sklearn.linear_model import LinearRegression\n",
    "\n",
    "import matplotlib.pyplot as plt  \n",
    "\n",
    "\n",
    "# create a dataframe\n",
    "df = pd.DataFrame(list(zip(country,gdp_per_capita, generosity,confidence_in_national_government,happiness_index)), \n",
    "               columns =['Country', 'GDP','Generosity','Confidence','Happiness']) \n",
    "df\n",
    "\n",
    "# plot GDP against Happiness\n",
    "\n",
    "df.plot(x='GDP', y='Happiness', style='o')  \n",
    "plt.title('GDP vs Happiness')  \n",
    "plt.xlabel('GDP')  \n",
    "plt.ylabel('Happiness')  \n",
    "plt.show()\n"
   ]
  },
  {
   "cell_type": "code",
   "execution_count": 96,
   "metadata": {},
   "outputs": [
    {
     "data": {
      "image/png": "[encoded data removed]",
      "text/plain": [
       "<Figure size 432x288 with 1 Axes>"
      ]
     },
     "metadata": {},
     "output_type": "display_data"
    }
   ],
   "source": [
    "X = df[['GDP']].values\n",
    "y = df['Happiness'].values\n",
    "\n",
    "# Create linear regression object.\n",
    "regression = LinearRegression()\n",
    "\n",
    "# Fit linear regression.\n",
    "regression.fit(X,y)\n",
    "\n",
    "regression.coef_\n",
    "\n",
    "#regression.intercept_\n",
    "\n",
    "happiness_predict = regression.predict(X)\n",
    "\n",
    "plt.scatter(X, y,  color='black')\n",
    "plt.plot(X, happiness_predict, color='blue', linewidth=3)\n",
    "\n",
    "plt.xticks(())\n",
    "plt.yticks(())\n",
    "\n",
    "plt.show()\n"
   ]
  }
 ],
 "metadata": {
  "kernelspec": {
   "display_name": "Python 2",
   "language": "python",
   "name": "python2"
  },
  "language_info": {
   "codemirror_mode": {
    "name": "ipython",
    "version": 2
   },
   "file_extension": ".py",
   "mimetype": "text/x-python",
   "name": "python",
   "nbconvert_exporter": "python",
   "pygments_lexer": "ipython2",
   "version": "2.7.16"
  }
 },
 "nbformat": 4,
 "nbformat_minor": 2
}
