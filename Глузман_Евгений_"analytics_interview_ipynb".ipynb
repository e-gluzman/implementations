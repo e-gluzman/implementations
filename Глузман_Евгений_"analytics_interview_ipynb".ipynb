{
  "nbformat": 4,
  "nbformat_minor": 0,
  "metadata": {
    "colab": {
      "name": "Глузман Евгений  - \"analytics_interview.ipynb\"",
      "provenance": [],
      "collapsed_sections": [],
      "include_colab_link": true
    },
    "kernelspec": {
      "display_name": "Python 3",
      "language": "python",
      "name": "python3"
    },
    "language_info": {
      "codemirror_mode": {
        "name": "ipython",
        "version": 3
      },
      "file_extension": ".py",
      "mimetype": "text/x-python",
      "name": "python",
      "nbconvert_exporter": "python",
      "pygments_lexer": "ipython3",
      "version": "3.6.5"
    }
  },
  "cells": [
    {
      "cell_type": "markdown",
      "metadata": {
        "id": "view-in-github",
        "colab_type": "text"
      },
      "source": [
        "<a href=\"https://colab.research.google.com/github/e-gluzman/implementations/blob/master/%D0%93%D0%BB%D1%83%D0%B7%D0%BC%D0%B0%D0%BD_%D0%95%D0%B2%D0%B3%D0%B5%D0%BD%D0%B8%D0%B9_%22analytics_interview_ipynb%22.ipynb\" target=\"_parent\"><img src=\"https://colab.research.google.com/assets/colab-badge.svg\" alt=\"Open In Colab\"/></a>"
      ]
    },
    {
      "cell_type": "markdown",
      "metadata": {
        "id": "ijPM7SoH_1bX"
      },
      "source": [
        "# SberDevices - аналитика"
      ]
    },
    {
      "cell_type": "markdown",
      "metadata": {
        "id": "HU4EJtobBGRf"
      },
      "source": [
        "3 раздела с короткими задачками и вопросами:\n",
        "*   Работа с данными\n",
        "*   Python\n",
        "*   ML"
      ]
    },
    {
      "cell_type": "markdown",
      "metadata": {
        "id": "HLU1V99dsDm6"
      },
      "source": [
        "# Аналитика"
      ]
    },
    {
      "cell_type": "markdown",
      "metadata": {
        "id": "lM5IKSTCAViC"
      },
      "source": [
        "создаём тестовые данные для следующих задач"
      ]
    },
    {
      "cell_type": "code",
      "metadata": {
        "id": "mKYs7HbgshUO"
      },
      "source": [
        "import pandas as pd\n",
        " \n",
        "dob = pd.DataFrame({\n",
        "    'userId': [2,3,3,3,2,2,4,4],\n",
        "    'userDoB': [\n",
        "        '2021/01/01',\n",
        "        '2021/01/01',\n",
        "        '2021/01/01',\n",
        "        '1990-05-09',\n",
        "        '2021/01/01',\n",
        "        '1991-06-10',\n",
        "        '2021/01/01',\n",
        "        '1992-07-11'\n",
        "    ]\n",
        "})\n",
        "orders = pd.DataFrame({\n",
        "    'userId': [1,2,1,2,3,4,2],\n",
        "    'orderId': [11,12,13,14,15,16,17]\n",
        "})\n",
        "mails = pd.DataFrame({\n",
        "    'userId': [2,3,4],\n",
        "    'userMail': ['m2@sberdevices.ru','m3@sberdevices.ru','m4@sberdevices.ru']\n",
        "})"
      ],
      "execution_count": null,
      "outputs": []
    },
    {
      "cell_type": "code",
      "metadata": {
        "colab": {
          "base_uri": "https://localhost:8080/",
          "height": 300
        },
        "id": "_0azfUCVsjoW",
        "outputId": "9cd16c0e-827d-43c0-e44c-1c9a047cd5e4"
      },
      "source": [
        "dob.head(10)"
      ],
      "execution_count": null,
      "outputs": [
        {
          "output_type": "execute_result",
          "data": {
            "text/html": [
              "\n",
              "  <div id=\"df-e06f8af6-d18a-4eef-bc3d-f3e95df2eb4d\">\n",
              "    <div class=\"colab-df-container\">\n",
              "      <div>\n",
              "<style scoped>\n",
              "    .dataframe tbody tr th:only-of-type {\n",
              "        vertical-align: middle;\n",
              "    }\n",
              "\n",
              "    .dataframe tbody tr th {\n",
              "        vertical-align: top;\n",
              "    }\n",
              "\n",
              "    .dataframe thead th {\n",
              "        text-align: right;\n",
              "    }\n",
              "</style>\n",
              "<table border=\"1\" class=\"dataframe\">\n",
              "  <thead>\n",
              "    <tr style=\"text-align: right;\">\n",
              "      <th></th>\n",
              "      <th>userId</th>\n",
              "      <th>userDoB</th>\n",
              "    </tr>\n",
              "  </thead>\n",
              "  <tbody>\n",
              "    <tr>\n",
              "      <th>0</th>\n",
              "      <td>2</td>\n",
              "      <td>2021/01/01</td>\n",
              "    </tr>\n",
              "    <tr>\n",
              "      <th>1</th>\n",
              "      <td>3</td>\n",
              "      <td>2021/01/01</td>\n",
              "    </tr>\n",
              "    <tr>\n",
              "      <th>2</th>\n",
              "      <td>3</td>\n",
              "      <td>2021/01/01</td>\n",
              "    </tr>\n",
              "    <tr>\n",
              "      <th>3</th>\n",
              "      <td>3</td>\n",
              "      <td>1990-05-09</td>\n",
              "    </tr>\n",
              "    <tr>\n",
              "      <th>4</th>\n",
              "      <td>2</td>\n",
              "      <td>2021/01/01</td>\n",
              "    </tr>\n",
              "    <tr>\n",
              "      <th>5</th>\n",
              "      <td>2</td>\n",
              "      <td>1991-06-10</td>\n",
              "    </tr>\n",
              "    <tr>\n",
              "      <th>6</th>\n",
              "      <td>4</td>\n",
              "      <td>2021/01/01</td>\n",
              "    </tr>\n",
              "    <tr>\n",
              "      <th>7</th>\n",
              "      <td>4</td>\n",
              "      <td>1992-07-11</td>\n",
              "    </tr>\n",
              "  </tbody>\n",
              "</table>\n",
              "</div>\n",
              "      <button class=\"colab-df-convert\" onclick=\"convertToInteractive('df-e06f8af6-d18a-4eef-bc3d-f3e95df2eb4d')\"\n",
              "              title=\"Convert this dataframe to an interactive table.\"\n",
              "              style=\"display:none;\">\n",
              "        \n",
              "  <svg xmlns=\"http://www.w3.org/2000/svg\" height=\"24px\"viewBox=\"0 0 24 24\"\n",
              "       width=\"24px\">\n",
              "    <path d=\"M0 0h24v24H0V0z\" fill=\"none\"/>\n",
              "    <path d=\"M18.56 5.44l.94 2.06.94-2.06 2.06-.94-2.06-.94-.94-2.06-.94 2.06-2.06.94zm-11 1L8.5 8.5l.94-2.06 2.06-.94-2.06-.94L8.5 2.5l-.94 2.06-2.06.94zm10 10l.94 2.06.94-2.06 2.06-.94-2.06-.94-.94-2.06-.94 2.06-2.06.94z\"/><path d=\"M17.41 7.96l-1.37-1.37c-.4-.4-.92-.59-1.43-.59-.52 0-1.04.2-1.43.59L10.3 9.45l-7.72 7.72c-.78.78-.78 2.05 0 2.83L4 21.41c.39.39.9.59 1.41.59.51 0 1.02-.2 1.41-.59l7.78-7.78 2.81-2.81c.8-.78.8-2.07 0-2.86zM5.41 20L4 18.59l7.72-7.72 1.47 1.35L5.41 20z\"/>\n",
              "  </svg>\n",
              "      </button>\n",
              "      \n",
              "  <style>\n",
              "    .colab-df-container {\n",
              "      display:flex;\n",
              "      flex-wrap:wrap;\n",
              "      gap: 12px;\n",
              "    }\n",
              "\n",
              "    .colab-df-convert {\n",
              "      background-color: #E8F0FE;\n",
              "      border: none;\n",
              "      border-radius: 50%;\n",
              "      cursor: pointer;\n",
              "      display: none;\n",
              "      fill: #1967D2;\n",
              "      height: 32px;\n",
              "      padding: 0 0 0 0;\n",
              "      width: 32px;\n",
              "    }\n",
              "\n",
              "    .colab-df-convert:hover {\n",
              "      background-color: #E2EBFA;\n",
              "      box-shadow: 0px 1px 2px rgba(60, 64, 67, 0.3), 0px 1px 3px 1px rgba(60, 64, 67, 0.15);\n",
              "      fill: #174EA6;\n",
              "    }\n",
              "\n",
              "    [theme=dark] .colab-df-convert {\n",
              "      background-color: #3B4455;\n",
              "      fill: #D2E3FC;\n",
              "    }\n",
              "\n",
              "    [theme=dark] .colab-df-convert:hover {\n",
              "      background-color: #434B5C;\n",
              "      box-shadow: 0px 1px 3px 1px rgba(0, 0, 0, 0.15);\n",
              "      filter: drop-shadow(0px 1px 2px rgba(0, 0, 0, 0.3));\n",
              "      fill: #FFFFFF;\n",
              "    }\n",
              "  </style>\n",
              "\n",
              "      <script>\n",
              "        const buttonEl =\n",
              "          document.querySelector('#df-e06f8af6-d18a-4eef-bc3d-f3e95df2eb4d button.colab-df-convert');\n",
              "        buttonEl.style.display =\n",
              "          google.colab.kernel.accessAllowed ? 'block' : 'none';\n",
              "\n",
              "        async function convertToInteractive(key) {\n",
              "          const element = document.querySelector('#df-e06f8af6-d18a-4eef-bc3d-f3e95df2eb4d');\n",
              "          const dataTable =\n",
              "            await google.colab.kernel.invokeFunction('convertToInteractive',\n",
              "                                                     [key], {});\n",
              "          if (!dataTable) return;\n",
              "\n",
              "          const docLinkHtml = 'Like what you see? Visit the ' +\n",
              "            '<a target=\"_blank\" href=https://colab.research.google.com/notebooks/data_table.ipynb>data table notebook</a>'\n",
              "            + ' to learn more about interactive tables.';\n",
              "          element.innerHTML = '';\n",
              "          dataTable['output_type'] = 'display_data';\n",
              "          await google.colab.output.renderOutput(dataTable, element);\n",
              "          const docLink = document.createElement('div');\n",
              "          docLink.innerHTML = docLinkHtml;\n",
              "          element.appendChild(docLink);\n",
              "        }\n",
              "      </script>\n",
              "    </div>\n",
              "  </div>\n",
              "  "
            ],
            "text/plain": [
              "   userId     userDoB\n",
              "0       2  2021/01/01\n",
              "1       3  2021/01/01\n",
              "2       3  2021/01/01\n",
              "3       3  1990-05-09\n",
              "4       2  2021/01/01\n",
              "5       2  1991-06-10\n",
              "6       4  2021/01/01\n",
              "7       4  1992-07-11"
            ]
          },
          "metadata": {},
          "execution_count": 7
        }
      ]
    },
    {
      "cell_type": "code",
      "metadata": {
        "colab": {
          "base_uri": "https://localhost:8080/",
          "height": 143
        },
        "id": "FGywPtQVslF7",
        "outputId": "1a99a622-9891-42ab-da0f-7253caedc214"
      },
      "source": [
        "orders.head(3)"
      ],
      "execution_count": null,
      "outputs": [
        {
          "output_type": "execute_result",
          "data": {
            "text/html": [
              "\n",
              "  <div id=\"df-87342db3-7ac1-42f5-9dea-a51d7562d9ab\">\n",
              "    <div class=\"colab-df-container\">\n",
              "      <div>\n",
              "<style scoped>\n",
              "    .dataframe tbody tr th:only-of-type {\n",
              "        vertical-align: middle;\n",
              "    }\n",
              "\n",
              "    .dataframe tbody tr th {\n",
              "        vertical-align: top;\n",
              "    }\n",
              "\n",
              "    .dataframe thead th {\n",
              "        text-align: right;\n",
              "    }\n",
              "</style>\n",
              "<table border=\"1\" class=\"dataframe\">\n",
              "  <thead>\n",
              "    <tr style=\"text-align: right;\">\n",
              "      <th></th>\n",
              "      <th>userId</th>\n",
              "      <th>orderId</th>\n",
              "    </tr>\n",
              "  </thead>\n",
              "  <tbody>\n",
              "    <tr>\n",
              "      <th>0</th>\n",
              "      <td>1</td>\n",
              "      <td>11</td>\n",
              "    </tr>\n",
              "    <tr>\n",
              "      <th>1</th>\n",
              "      <td>2</td>\n",
              "      <td>12</td>\n",
              "    </tr>\n",
              "    <tr>\n",
              "      <th>2</th>\n",
              "      <td>1</td>\n",
              "      <td>13</td>\n",
              "    </tr>\n",
              "  </tbody>\n",
              "</table>\n",
              "</div>\n",
              "      <button class=\"colab-df-convert\" onclick=\"convertToInteractive('df-87342db3-7ac1-42f5-9dea-a51d7562d9ab')\"\n",
              "              title=\"Convert this dataframe to an interactive table.\"\n",
              "              style=\"display:none;\">\n",
              "        \n",
              "  <svg xmlns=\"http://www.w3.org/2000/svg\" height=\"24px\"viewBox=\"0 0 24 24\"\n",
              "       width=\"24px\">\n",
              "    <path d=\"M0 0h24v24H0V0z\" fill=\"none\"/>\n",
              "    <path d=\"M18.56 5.44l.94 2.06.94-2.06 2.06-.94-2.06-.94-.94-2.06-.94 2.06-2.06.94zm-11 1L8.5 8.5l.94-2.06 2.06-.94-2.06-.94L8.5 2.5l-.94 2.06-2.06.94zm10 10l.94 2.06.94-2.06 2.06-.94-2.06-.94-.94-2.06-.94 2.06-2.06.94z\"/><path d=\"M17.41 7.96l-1.37-1.37c-.4-.4-.92-.59-1.43-.59-.52 0-1.04.2-1.43.59L10.3 9.45l-7.72 7.72c-.78.78-.78 2.05 0 2.83L4 21.41c.39.39.9.59 1.41.59.51 0 1.02-.2 1.41-.59l7.78-7.78 2.81-2.81c.8-.78.8-2.07 0-2.86zM5.41 20L4 18.59l7.72-7.72 1.47 1.35L5.41 20z\"/>\n",
              "  </svg>\n",
              "      </button>\n",
              "      \n",
              "  <style>\n",
              "    .colab-df-container {\n",
              "      display:flex;\n",
              "      flex-wrap:wrap;\n",
              "      gap: 12px;\n",
              "    }\n",
              "\n",
              "    .colab-df-convert {\n",
              "      background-color: #E8F0FE;\n",
              "      border: none;\n",
              "      border-radius: 50%;\n",
              "      cursor: pointer;\n",
              "      display: none;\n",
              "      fill: #1967D2;\n",
              "      height: 32px;\n",
              "      padding: 0 0 0 0;\n",
              "      width: 32px;\n",
              "    }\n",
              "\n",
              "    .colab-df-convert:hover {\n",
              "      background-color: #E2EBFA;\n",
              "      box-shadow: 0px 1px 2px rgba(60, 64, 67, 0.3), 0px 1px 3px 1px rgba(60, 64, 67, 0.15);\n",
              "      fill: #174EA6;\n",
              "    }\n",
              "\n",
              "    [theme=dark] .colab-df-convert {\n",
              "      background-color: #3B4455;\n",
              "      fill: #D2E3FC;\n",
              "    }\n",
              "\n",
              "    [theme=dark] .colab-df-convert:hover {\n",
              "      background-color: #434B5C;\n",
              "      box-shadow: 0px 1px 3px 1px rgba(0, 0, 0, 0.15);\n",
              "      filter: drop-shadow(0px 1px 2px rgba(0, 0, 0, 0.3));\n",
              "      fill: #FFFFFF;\n",
              "    }\n",
              "  </style>\n",
              "\n",
              "      <script>\n",
              "        const buttonEl =\n",
              "          document.querySelector('#df-87342db3-7ac1-42f5-9dea-a51d7562d9ab button.colab-df-convert');\n",
              "        buttonEl.style.display =\n",
              "          google.colab.kernel.accessAllowed ? 'block' : 'none';\n",
              "\n",
              "        async function convertToInteractive(key) {\n",
              "          const element = document.querySelector('#df-87342db3-7ac1-42f5-9dea-a51d7562d9ab');\n",
              "          const dataTable =\n",
              "            await google.colab.kernel.invokeFunction('convertToInteractive',\n",
              "                                                     [key], {});\n",
              "          if (!dataTable) return;\n",
              "\n",
              "          const docLinkHtml = 'Like what you see? Visit the ' +\n",
              "            '<a target=\"_blank\" href=https://colab.research.google.com/notebooks/data_table.ipynb>data table notebook</a>'\n",
              "            + ' to learn more about interactive tables.';\n",
              "          element.innerHTML = '';\n",
              "          dataTable['output_type'] = 'display_data';\n",
              "          await google.colab.output.renderOutput(dataTable, element);\n",
              "          const docLink = document.createElement('div');\n",
              "          docLink.innerHTML = docLinkHtml;\n",
              "          element.appendChild(docLink);\n",
              "        }\n",
              "      </script>\n",
              "    </div>\n",
              "  </div>\n",
              "  "
            ],
            "text/plain": [
              "   userId  orderId\n",
              "0       1       11\n",
              "1       2       12\n",
              "2       1       13"
            ]
          },
          "metadata": {},
          "execution_count": 4
        }
      ]
    },
    {
      "cell_type": "code",
      "metadata": {
        "colab": {
          "base_uri": "https://localhost:8080/",
          "height": 143
        },
        "id": "cHHloD7vsl5X",
        "outputId": "0bf64780-3eb1-465d-8fdc-f719da99e251"
      },
      "source": [
        "mails.head(3)"
      ],
      "execution_count": null,
      "outputs": [
        {
          "output_type": "execute_result",
          "data": {
            "text/html": [
              "\n",
              "  <div id=\"df-48d11e8a-5bc0-4c15-8231-62f7fb0b2406\">\n",
              "    <div class=\"colab-df-container\">\n",
              "      <div>\n",
              "<style scoped>\n",
              "    .dataframe tbody tr th:only-of-type {\n",
              "        vertical-align: middle;\n",
              "    }\n",
              "\n",
              "    .dataframe tbody tr th {\n",
              "        vertical-align: top;\n",
              "    }\n",
              "\n",
              "    .dataframe thead th {\n",
              "        text-align: right;\n",
              "    }\n",
              "</style>\n",
              "<table border=\"1\" class=\"dataframe\">\n",
              "  <thead>\n",
              "    <tr style=\"text-align: right;\">\n",
              "      <th></th>\n",
              "      <th>userId</th>\n",
              "      <th>userMail</th>\n",
              "    </tr>\n",
              "  </thead>\n",
              "  <tbody>\n",
              "    <tr>\n",
              "      <th>0</th>\n",
              "      <td>2</td>\n",
              "      <td>m2@sberdevices.ru</td>\n",
              "    </tr>\n",
              "    <tr>\n",
              "      <th>1</th>\n",
              "      <td>3</td>\n",
              "      <td>m3@sberdevices.ru</td>\n",
              "    </tr>\n",
              "    <tr>\n",
              "      <th>2</th>\n",
              "      <td>4</td>\n",
              "      <td>m4@sberdevices.ru</td>\n",
              "    </tr>\n",
              "  </tbody>\n",
              "</table>\n",
              "</div>\n",
              "      <button class=\"colab-df-convert\" onclick=\"convertToInteractive('df-48d11e8a-5bc0-4c15-8231-62f7fb0b2406')\"\n",
              "              title=\"Convert this dataframe to an interactive table.\"\n",
              "              style=\"display:none;\">\n",
              "        \n",
              "  <svg xmlns=\"http://www.w3.org/2000/svg\" height=\"24px\"viewBox=\"0 0 24 24\"\n",
              "       width=\"24px\">\n",
              "    <path d=\"M0 0h24v24H0V0z\" fill=\"none\"/>\n",
              "    <path d=\"M18.56 5.44l.94 2.06.94-2.06 2.06-.94-2.06-.94-.94-2.06-.94 2.06-2.06.94zm-11 1L8.5 8.5l.94-2.06 2.06-.94-2.06-.94L8.5 2.5l-.94 2.06-2.06.94zm10 10l.94 2.06.94-2.06 2.06-.94-2.06-.94-.94-2.06-.94 2.06-2.06.94z\"/><path d=\"M17.41 7.96l-1.37-1.37c-.4-.4-.92-.59-1.43-.59-.52 0-1.04.2-1.43.59L10.3 9.45l-7.72 7.72c-.78.78-.78 2.05 0 2.83L4 21.41c.39.39.9.59 1.41.59.51 0 1.02-.2 1.41-.59l7.78-7.78 2.81-2.81c.8-.78.8-2.07 0-2.86zM5.41 20L4 18.59l7.72-7.72 1.47 1.35L5.41 20z\"/>\n",
              "  </svg>\n",
              "      </button>\n",
              "      \n",
              "  <style>\n",
              "    .colab-df-container {\n",
              "      display:flex;\n",
              "      flex-wrap:wrap;\n",
              "      gap: 12px;\n",
              "    }\n",
              "\n",
              "    .colab-df-convert {\n",
              "      background-color: #E8F0FE;\n",
              "      border: none;\n",
              "      border-radius: 50%;\n",
              "      cursor: pointer;\n",
              "      display: none;\n",
              "      fill: #1967D2;\n",
              "      height: 32px;\n",
              "      padding: 0 0 0 0;\n",
              "      width: 32px;\n",
              "    }\n",
              "\n",
              "    .colab-df-convert:hover {\n",
              "      background-color: #E2EBFA;\n",
              "      box-shadow: 0px 1px 2px rgba(60, 64, 67, 0.3), 0px 1px 3px 1px rgba(60, 64, 67, 0.15);\n",
              "      fill: #174EA6;\n",
              "    }\n",
              "\n",
              "    [theme=dark] .colab-df-convert {\n",
              "      background-color: #3B4455;\n",
              "      fill: #D2E3FC;\n",
              "    }\n",
              "\n",
              "    [theme=dark] .colab-df-convert:hover {\n",
              "      background-color: #434B5C;\n",
              "      box-shadow: 0px 1px 3px 1px rgba(0, 0, 0, 0.15);\n",
              "      filter: drop-shadow(0px 1px 2px rgba(0, 0, 0, 0.3));\n",
              "      fill: #FFFFFF;\n",
              "    }\n",
              "  </style>\n",
              "\n",
              "      <script>\n",
              "        const buttonEl =\n",
              "          document.querySelector('#df-48d11e8a-5bc0-4c15-8231-62f7fb0b2406 button.colab-df-convert');\n",
              "        buttonEl.style.display =\n",
              "          google.colab.kernel.accessAllowed ? 'block' : 'none';\n",
              "\n",
              "        async function convertToInteractive(key) {\n",
              "          const element = document.querySelector('#df-48d11e8a-5bc0-4c15-8231-62f7fb0b2406');\n",
              "          const dataTable =\n",
              "            await google.colab.kernel.invokeFunction('convertToInteractive',\n",
              "                                                     [key], {});\n",
              "          if (!dataTable) return;\n",
              "\n",
              "          const docLinkHtml = 'Like what you see? Visit the ' +\n",
              "            '<a target=\"_blank\" href=https://colab.research.google.com/notebooks/data_table.ipynb>data table notebook</a>'\n",
              "            + ' to learn more about interactive tables.';\n",
              "          element.innerHTML = '';\n",
              "          dataTable['output_type'] = 'display_data';\n",
              "          await google.colab.output.renderOutput(dataTable, element);\n",
              "          const docLink = document.createElement('div');\n",
              "          docLink.innerHTML = docLinkHtml;\n",
              "          element.appendChild(docLink);\n",
              "        }\n",
              "      </script>\n",
              "    </div>\n",
              "  </div>\n",
              "  "
            ],
            "text/plain": [
              "   userId           userMail\n",
              "0       2  m2@sberdevices.ru\n",
              "1       3  m3@sberdevices.ru\n",
              "2       4  m4@sberdevices.ru"
            ]
          },
          "metadata": {},
          "execution_count": 5
        }
      ]
    },
    {
      "cell_type": "markdown",
      "metadata": {
        "id": "RvyUkbQCAU9a"
      },
      "source": [
        "1. Вывести квадраты чисел от 1 до 10"
      ]
    },
    {
      "cell_type": "code",
      "metadata": {
        "id": "eQqgizGRAh9p",
        "colab": {
          "base_uri": "https://localhost:8080/"
        },
        "outputId": "b2791ba5-9bb2-4f7c-ebc2-b66a0b4bd176"
      },
      "source": [
        "for i in range(1,11):\n",
        "\n",
        "  print(str(i **2))"
      ],
      "execution_count": null,
      "outputs": [
        {
          "output_type": "stream",
          "name": "stdout",
          "text": [
            "1\n",
            "4\n",
            "9\n",
            "16\n",
            "25\n",
            "36\n",
            "49\n",
            "64\n",
            "81\n",
            "100\n"
          ]
        }
      ]
    },
    {
      "cell_type": "markdown",
      "metadata": {
        "id": "FCZUqa1QAjFT"
      },
      "source": [
        "2. Вывести количество записей по каждому userId в таблице dob"
      ]
    },
    {
      "cell_type": "code",
      "metadata": {
        "id": "llXQDdy0AiWH",
        "colab": {
          "base_uri": "https://localhost:8080/",
          "height": 175
        },
        "outputId": "b9a14efe-9380-45de-9ace-45e0a573857a"
      },
      "source": [
        "dob.groupby('userId').count()"
      ],
      "execution_count": null,
      "outputs": [
        {
          "output_type": "execute_result",
          "data": {
            "text/html": [
              "\n",
              "  <div id=\"df-8d34bf43-7578-487d-8027-4a5dba357610\">\n",
              "    <div class=\"colab-df-container\">\n",
              "      <div>\n",
              "<style scoped>\n",
              "    .dataframe tbody tr th:only-of-type {\n",
              "        vertical-align: middle;\n",
              "    }\n",
              "\n",
              "    .dataframe tbody tr th {\n",
              "        vertical-align: top;\n",
              "    }\n",
              "\n",
              "    .dataframe thead th {\n",
              "        text-align: right;\n",
              "    }\n",
              "</style>\n",
              "<table border=\"1\" class=\"dataframe\">\n",
              "  <thead>\n",
              "    <tr style=\"text-align: right;\">\n",
              "      <th></th>\n",
              "      <th>userDoB</th>\n",
              "    </tr>\n",
              "    <tr>\n",
              "      <th>userId</th>\n",
              "      <th></th>\n",
              "    </tr>\n",
              "  </thead>\n",
              "  <tbody>\n",
              "    <tr>\n",
              "      <th>2</th>\n",
              "      <td>3</td>\n",
              "    </tr>\n",
              "    <tr>\n",
              "      <th>3</th>\n",
              "      <td>3</td>\n",
              "    </tr>\n",
              "    <tr>\n",
              "      <th>4</th>\n",
              "      <td>2</td>\n",
              "    </tr>\n",
              "  </tbody>\n",
              "</table>\n",
              "</div>\n",
              "      <button class=\"colab-df-convert\" onclick=\"convertToInteractive('df-8d34bf43-7578-487d-8027-4a5dba357610')\"\n",
              "              title=\"Convert this dataframe to an interactive table.\"\n",
              "              style=\"display:none;\">\n",
              "        \n",
              "  <svg xmlns=\"http://www.w3.org/2000/svg\" height=\"24px\"viewBox=\"0 0 24 24\"\n",
              "       width=\"24px\">\n",
              "    <path d=\"M0 0h24v24H0V0z\" fill=\"none\"/>\n",
              "    <path d=\"M18.56 5.44l.94 2.06.94-2.06 2.06-.94-2.06-.94-.94-2.06-.94 2.06-2.06.94zm-11 1L8.5 8.5l.94-2.06 2.06-.94-2.06-.94L8.5 2.5l-.94 2.06-2.06.94zm10 10l.94 2.06.94-2.06 2.06-.94-2.06-.94-.94-2.06-.94 2.06-2.06.94z\"/><path d=\"M17.41 7.96l-1.37-1.37c-.4-.4-.92-.59-1.43-.59-.52 0-1.04.2-1.43.59L10.3 9.45l-7.72 7.72c-.78.78-.78 2.05 0 2.83L4 21.41c.39.39.9.59 1.41.59.51 0 1.02-.2 1.41-.59l7.78-7.78 2.81-2.81c.8-.78.8-2.07 0-2.86zM5.41 20L4 18.59l7.72-7.72 1.47 1.35L5.41 20z\"/>\n",
              "  </svg>\n",
              "      </button>\n",
              "      \n",
              "  <style>\n",
              "    .colab-df-container {\n",
              "      display:flex;\n",
              "      flex-wrap:wrap;\n",
              "      gap: 12px;\n",
              "    }\n",
              "\n",
              "    .colab-df-convert {\n",
              "      background-color: #E8F0FE;\n",
              "      border: none;\n",
              "      border-radius: 50%;\n",
              "      cursor: pointer;\n",
              "      display: none;\n",
              "      fill: #1967D2;\n",
              "      height: 32px;\n",
              "      padding: 0 0 0 0;\n",
              "      width: 32px;\n",
              "    }\n",
              "\n",
              "    .colab-df-convert:hover {\n",
              "      background-color: #E2EBFA;\n",
              "      box-shadow: 0px 1px 2px rgba(60, 64, 67, 0.3), 0px 1px 3px 1px rgba(60, 64, 67, 0.15);\n",
              "      fill: #174EA6;\n",
              "    }\n",
              "\n",
              "    [theme=dark] .colab-df-convert {\n",
              "      background-color: #3B4455;\n",
              "      fill: #D2E3FC;\n",
              "    }\n",
              "\n",
              "    [theme=dark] .colab-df-convert:hover {\n",
              "      background-color: #434B5C;\n",
              "      box-shadow: 0px 1px 3px 1px rgba(0, 0, 0, 0.15);\n",
              "      filter: drop-shadow(0px 1px 2px rgba(0, 0, 0, 0.3));\n",
              "      fill: #FFFFFF;\n",
              "    }\n",
              "  </style>\n",
              "\n",
              "      <script>\n",
              "        const buttonEl =\n",
              "          document.querySelector('#df-8d34bf43-7578-487d-8027-4a5dba357610 button.colab-df-convert');\n",
              "        buttonEl.style.display =\n",
              "          google.colab.kernel.accessAllowed ? 'block' : 'none';\n",
              "\n",
              "        async function convertToInteractive(key) {\n",
              "          const element = document.querySelector('#df-8d34bf43-7578-487d-8027-4a5dba357610');\n",
              "          const dataTable =\n",
              "            await google.colab.kernel.invokeFunction('convertToInteractive',\n",
              "                                                     [key], {});\n",
              "          if (!dataTable) return;\n",
              "\n",
              "          const docLinkHtml = 'Like what you see? Visit the ' +\n",
              "            '<a target=\"_blank\" href=https://colab.research.google.com/notebooks/data_table.ipynb>data table notebook</a>'\n",
              "            + ' to learn more about interactive tables.';\n",
              "          element.innerHTML = '';\n",
              "          dataTable['output_type'] = 'display_data';\n",
              "          await google.colab.output.renderOutput(dataTable, element);\n",
              "          const docLink = document.createElement('div');\n",
              "          docLink.innerHTML = docLinkHtml;\n",
              "          element.appendChild(docLink);\n",
              "        }\n",
              "      </script>\n",
              "    </div>\n",
              "  </div>\n",
              "  "
            ],
            "text/plain": [
              "        userDoB\n",
              "userId         \n",
              "2             3\n",
              "3             3\n",
              "4             2"
            ]
          },
          "metadata": {},
          "execution_count": 9
        }
      ]
    },
    {
      "cell_type": "markdown",
      "metadata": {
        "id": "47UKXap0scDu"
      },
      "source": [
        "3. В таблице dob представлены ID пользователей и их введённые даты рождения. Для каждого пользователя вывести последнее указанное значение дня рождения"
      ]
    },
    {
      "cell_type": "code",
      "metadata": {
        "id": "7Rc57sTjr-ci",
        "colab": {
          "base_uri": "https://localhost:8080/",
          "height": 175
        },
        "outputId": "a954789b-138e-4705-8c1f-648d435b8979"
      },
      "source": [
        "dob.groupby('userId').last()"
      ],
      "execution_count": null,
      "outputs": [
        {
          "output_type": "execute_result",
          "data": {
            "text/html": [
              "\n",
              "  <div id=\"df-bed71817-c8d7-479c-889d-23e8895e06c5\">\n",
              "    <div class=\"colab-df-container\">\n",
              "      <div>\n",
              "<style scoped>\n",
              "    .dataframe tbody tr th:only-of-type {\n",
              "        vertical-align: middle;\n",
              "    }\n",
              "\n",
              "    .dataframe tbody tr th {\n",
              "        vertical-align: top;\n",
              "    }\n",
              "\n",
              "    .dataframe thead th {\n",
              "        text-align: right;\n",
              "    }\n",
              "</style>\n",
              "<table border=\"1\" class=\"dataframe\">\n",
              "  <thead>\n",
              "    <tr style=\"text-align: right;\">\n",
              "      <th></th>\n",
              "      <th>userDoB</th>\n",
              "    </tr>\n",
              "    <tr>\n",
              "      <th>userId</th>\n",
              "      <th></th>\n",
              "    </tr>\n",
              "  </thead>\n",
              "  <tbody>\n",
              "    <tr>\n",
              "      <th>2</th>\n",
              "      <td>1991-06-10</td>\n",
              "    </tr>\n",
              "    <tr>\n",
              "      <th>3</th>\n",
              "      <td>1990-05-09</td>\n",
              "    </tr>\n",
              "    <tr>\n",
              "      <th>4</th>\n",
              "      <td>1992-07-11</td>\n",
              "    </tr>\n",
              "  </tbody>\n",
              "</table>\n",
              "</div>\n",
              "      <button class=\"colab-df-convert\" onclick=\"convertToInteractive('df-bed71817-c8d7-479c-889d-23e8895e06c5')\"\n",
              "              title=\"Convert this dataframe to an interactive table.\"\n",
              "              style=\"display:none;\">\n",
              "        \n",
              "  <svg xmlns=\"http://www.w3.org/2000/svg\" height=\"24px\"viewBox=\"0 0 24 24\"\n",
              "       width=\"24px\">\n",
              "    <path d=\"M0 0h24v24H0V0z\" fill=\"none\"/>\n",
              "    <path d=\"M18.56 5.44l.94 2.06.94-2.06 2.06-.94-2.06-.94-.94-2.06-.94 2.06-2.06.94zm-11 1L8.5 8.5l.94-2.06 2.06-.94-2.06-.94L8.5 2.5l-.94 2.06-2.06.94zm10 10l.94 2.06.94-2.06 2.06-.94-2.06-.94-.94-2.06-.94 2.06-2.06.94z\"/><path d=\"M17.41 7.96l-1.37-1.37c-.4-.4-.92-.59-1.43-.59-.52 0-1.04.2-1.43.59L10.3 9.45l-7.72 7.72c-.78.78-.78 2.05 0 2.83L4 21.41c.39.39.9.59 1.41.59.51 0 1.02-.2 1.41-.59l7.78-7.78 2.81-2.81c.8-.78.8-2.07 0-2.86zM5.41 20L4 18.59l7.72-7.72 1.47 1.35L5.41 20z\"/>\n",
              "  </svg>\n",
              "      </button>\n",
              "      \n",
              "  <style>\n",
              "    .colab-df-container {\n",
              "      display:flex;\n",
              "      flex-wrap:wrap;\n",
              "      gap: 12px;\n",
              "    }\n",
              "\n",
              "    .colab-df-convert {\n",
              "      background-color: #E8F0FE;\n",
              "      border: none;\n",
              "      border-radius: 50%;\n",
              "      cursor: pointer;\n",
              "      display: none;\n",
              "      fill: #1967D2;\n",
              "      height: 32px;\n",
              "      padding: 0 0 0 0;\n",
              "      width: 32px;\n",
              "    }\n",
              "\n",
              "    .colab-df-convert:hover {\n",
              "      background-color: #E2EBFA;\n",
              "      box-shadow: 0px 1px 2px rgba(60, 64, 67, 0.3), 0px 1px 3px 1px rgba(60, 64, 67, 0.15);\n",
              "      fill: #174EA6;\n",
              "    }\n",
              "\n",
              "    [theme=dark] .colab-df-convert {\n",
              "      background-color: #3B4455;\n",
              "      fill: #D2E3FC;\n",
              "    }\n",
              "\n",
              "    [theme=dark] .colab-df-convert:hover {\n",
              "      background-color: #434B5C;\n",
              "      box-shadow: 0px 1px 3px 1px rgba(0, 0, 0, 0.15);\n",
              "      filter: drop-shadow(0px 1px 2px rgba(0, 0, 0, 0.3));\n",
              "      fill: #FFFFFF;\n",
              "    }\n",
              "  </style>\n",
              "\n",
              "      <script>\n",
              "        const buttonEl =\n",
              "          document.querySelector('#df-bed71817-c8d7-479c-889d-23e8895e06c5 button.colab-df-convert');\n",
              "        buttonEl.style.display =\n",
              "          google.colab.kernel.accessAllowed ? 'block' : 'none';\n",
              "\n",
              "        async function convertToInteractive(key) {\n",
              "          const element = document.querySelector('#df-bed71817-c8d7-479c-889d-23e8895e06c5');\n",
              "          const dataTable =\n",
              "            await google.colab.kernel.invokeFunction('convertToInteractive',\n",
              "                                                     [key], {});\n",
              "          if (!dataTable) return;\n",
              "\n",
              "          const docLinkHtml = 'Like what you see? Visit the ' +\n",
              "            '<a target=\"_blank\" href=https://colab.research.google.com/notebooks/data_table.ipynb>data table notebook</a>'\n",
              "            + ' to learn more about interactive tables.';\n",
              "          element.innerHTML = '';\n",
              "          dataTable['output_type'] = 'display_data';\n",
              "          await google.colab.output.renderOutput(dataTable, element);\n",
              "          const docLink = document.createElement('div');\n",
              "          docLink.innerHTML = docLinkHtml;\n",
              "          element.appendChild(docLink);\n",
              "        }\n",
              "      </script>\n",
              "    </div>\n",
              "  </div>\n",
              "  "
            ],
            "text/plain": [
              "           userDoB\n",
              "userId            \n",
              "2       1991-06-10\n",
              "3       1990-05-09\n",
              "4       1992-07-11"
            ]
          },
          "metadata": {},
          "execution_count": 11
        }
      ]
    },
    {
      "cell_type": "markdown",
      "metadata": {
        "id": "qYQd4FrEsujg"
      },
      "source": [
        "4. Сервис http://endpoint.com:8888 возвращает для заданного userId имя пользователя по методу get_full_name. Если для данного ID нет имени в базе, возвращает None. Для каждого userId из dob получить имя пользователя через API\n",
        "\n",
        "p.s. как можно эффективно устроить такой сбор информации?"
      ]
    },
    {
      "cell_type": "code",
      "metadata": {
        "id": "PVv9lCxuFdVA"
      },
      "source": [
        "import requests\n",
        "\n",
        "def get_full_name(user_id):\n",
        "\n",
        "  response = requests.get(\"http://endpoint.com:8888\",params = {'user_id': user_id})\n",
        "  name = response.json()[\"response\"][\"name\"] \n",
        "\n",
        "  return name"
      ],
      "execution_count": 234,
      "outputs": []
    },
    {
      "cell_type": "code",
      "source": [
        "# похоже адрес не действителен\n",
        "# get_full_name(2)"
      ],
      "metadata": {
        "id": "i4-i1kFfua3v"
      },
      "execution_count": 262,
      "outputs": []
    },
    {
      "cell_type": "markdown",
      "metadata": {
        "id": "61HNIcT4PZal"
      },
      "source": [
        "5. Из существующих таблиц получить агрегированную таблицу вида userId, userMail, userDoB"
      ]
    },
    {
      "cell_type": "code",
      "metadata": {
        "id": "lsXih9D0tkJa",
        "colab": {
          "base_uri": "https://localhost:8080/",
          "height": 143
        },
        "outputId": "b35616a3-ccf5-43df-fe61-ff1d56a30265"
      },
      "source": [
        "a = dob.groupby('userId').last()\n",
        "final = a.merge(mails,on='userId',how='outer')\n",
        "final"
      ],
      "execution_count": null,
      "outputs": [
        {
          "output_type": "execute_result",
          "data": {
            "text/html": [
              "\n",
              "  <div id=\"df-73527f4c-b8c7-4859-bb51-25a6433e9a61\">\n",
              "    <div class=\"colab-df-container\">\n",
              "      <div>\n",
              "<style scoped>\n",
              "    .dataframe tbody tr th:only-of-type {\n",
              "        vertical-align: middle;\n",
              "    }\n",
              "\n",
              "    .dataframe tbody tr th {\n",
              "        vertical-align: top;\n",
              "    }\n",
              "\n",
              "    .dataframe thead th {\n",
              "        text-align: right;\n",
              "    }\n",
              "</style>\n",
              "<table border=\"1\" class=\"dataframe\">\n",
              "  <thead>\n",
              "    <tr style=\"text-align: right;\">\n",
              "      <th></th>\n",
              "      <th>userId</th>\n",
              "      <th>userDoB</th>\n",
              "      <th>userMail</th>\n",
              "    </tr>\n",
              "  </thead>\n",
              "  <tbody>\n",
              "    <tr>\n",
              "      <th>0</th>\n",
              "      <td>2</td>\n",
              "      <td>1991-06-10</td>\n",
              "      <td>m2@sberdevices.ru</td>\n",
              "    </tr>\n",
              "    <tr>\n",
              "      <th>1</th>\n",
              "      <td>3</td>\n",
              "      <td>1990-05-09</td>\n",
              "      <td>m3@sberdevices.ru</td>\n",
              "    </tr>\n",
              "    <tr>\n",
              "      <th>2</th>\n",
              "      <td>4</td>\n",
              "      <td>1992-07-11</td>\n",
              "      <td>m4@sberdevices.ru</td>\n",
              "    </tr>\n",
              "  </tbody>\n",
              "</table>\n",
              "</div>\n",
              "      <button class=\"colab-df-convert\" onclick=\"convertToInteractive('df-73527f4c-b8c7-4859-bb51-25a6433e9a61')\"\n",
              "              title=\"Convert this dataframe to an interactive table.\"\n",
              "              style=\"display:none;\">\n",
              "        \n",
              "  <svg xmlns=\"http://www.w3.org/2000/svg\" height=\"24px\"viewBox=\"0 0 24 24\"\n",
              "       width=\"24px\">\n",
              "    <path d=\"M0 0h24v24H0V0z\" fill=\"none\"/>\n",
              "    <path d=\"M18.56 5.44l.94 2.06.94-2.06 2.06-.94-2.06-.94-.94-2.06-.94 2.06-2.06.94zm-11 1L8.5 8.5l.94-2.06 2.06-.94-2.06-.94L8.5 2.5l-.94 2.06-2.06.94zm10 10l.94 2.06.94-2.06 2.06-.94-2.06-.94-.94-2.06-.94 2.06-2.06.94z\"/><path d=\"M17.41 7.96l-1.37-1.37c-.4-.4-.92-.59-1.43-.59-.52 0-1.04.2-1.43.59L10.3 9.45l-7.72 7.72c-.78.78-.78 2.05 0 2.83L4 21.41c.39.39.9.59 1.41.59.51 0 1.02-.2 1.41-.59l7.78-7.78 2.81-2.81c.8-.78.8-2.07 0-2.86zM5.41 20L4 18.59l7.72-7.72 1.47 1.35L5.41 20z\"/>\n",
              "  </svg>\n",
              "      </button>\n",
              "      \n",
              "  <style>\n",
              "    .colab-df-container {\n",
              "      display:flex;\n",
              "      flex-wrap:wrap;\n",
              "      gap: 12px;\n",
              "    }\n",
              "\n",
              "    .colab-df-convert {\n",
              "      background-color: #E8F0FE;\n",
              "      border: none;\n",
              "      border-radius: 50%;\n",
              "      cursor: pointer;\n",
              "      display: none;\n",
              "      fill: #1967D2;\n",
              "      height: 32px;\n",
              "      padding: 0 0 0 0;\n",
              "      width: 32px;\n",
              "    }\n",
              "\n",
              "    .colab-df-convert:hover {\n",
              "      background-color: #E2EBFA;\n",
              "      box-shadow: 0px 1px 2px rgba(60, 64, 67, 0.3), 0px 1px 3px 1px rgba(60, 64, 67, 0.15);\n",
              "      fill: #174EA6;\n",
              "    }\n",
              "\n",
              "    [theme=dark] .colab-df-convert {\n",
              "      background-color: #3B4455;\n",
              "      fill: #D2E3FC;\n",
              "    }\n",
              "\n",
              "    [theme=dark] .colab-df-convert:hover {\n",
              "      background-color: #434B5C;\n",
              "      box-shadow: 0px 1px 3px 1px rgba(0, 0, 0, 0.15);\n",
              "      filter: drop-shadow(0px 1px 2px rgba(0, 0, 0, 0.3));\n",
              "      fill: #FFFFFF;\n",
              "    }\n",
              "  </style>\n",
              "\n",
              "      <script>\n",
              "        const buttonEl =\n",
              "          document.querySelector('#df-73527f4c-b8c7-4859-bb51-25a6433e9a61 button.colab-df-convert');\n",
              "        buttonEl.style.display =\n",
              "          google.colab.kernel.accessAllowed ? 'block' : 'none';\n",
              "\n",
              "        async function convertToInteractive(key) {\n",
              "          const element = document.querySelector('#df-73527f4c-b8c7-4859-bb51-25a6433e9a61');\n",
              "          const dataTable =\n",
              "            await google.colab.kernel.invokeFunction('convertToInteractive',\n",
              "                                                     [key], {});\n",
              "          if (!dataTable) return;\n",
              "\n",
              "          const docLinkHtml = 'Like what you see? Visit the ' +\n",
              "            '<a target=\"_blank\" href=https://colab.research.google.com/notebooks/data_table.ipynb>data table notebook</a>'\n",
              "            + ' to learn more about interactive tables.';\n",
              "          element.innerHTML = '';\n",
              "          dataTable['output_type'] = 'display_data';\n",
              "          await google.colab.output.renderOutput(dataTable, element);\n",
              "          const docLink = document.createElement('div');\n",
              "          docLink.innerHTML = docLinkHtml;\n",
              "          element.appendChild(docLink);\n",
              "        }\n",
              "      </script>\n",
              "    </div>\n",
              "  </div>\n",
              "  "
            ],
            "text/plain": [
              "   userId     userDoB           userMail\n",
              "0       2  1991-06-10  m2@sberdevices.ru\n",
              "1       3  1990-05-09  m3@sberdevices.ru\n",
              "2       4  1992-07-11  m4@sberdevices.ru"
            ]
          },
          "metadata": {},
          "execution_count": 19
        }
      ]
    },
    {
      "cell_type": "markdown",
      "metadata": {
        "id": "nUaT2LZE_1bf"
      },
      "source": [
        "6. Дан датасет вида device-предсказанный интент-настоящий интент; надо проверить, что точность распознавания на device A выше, чем на B"
      ]
    },
    {
      "cell_type": "code",
      "metadata": {
        "colab": {
          "base_uri": "https://localhost:8080/",
          "height": 424
        },
        "id": "hP8WKIpP_1bf",
        "outputId": "c179fdbe-f5bf-4633-ccf1-3d500f1c5cbd"
      },
      "source": [
        "from random import randint, choice\n",
        "import pandas as pd\n",
        "\n",
        "data = pd.DataFrame({\n",
        "    'device': [choice(['A', 'B', 'C']) for i in range(10000)],\n",
        "    'pred': ['intent{}'.format(randint(1, 10)) for i in range(10000)],\n",
        "    'true': ['intent{}'.format(randint(1, 10)) for i in range(10000)]\n",
        "})\n",
        "data['true'] = [pred if device=='A' and choice([0,1,1]) else true for pred, true, device in zip(data.pred, data.true, data.device)]\n",
        "data"
      ],
      "execution_count": null,
      "outputs": [
        {
          "output_type": "execute_result",
          "data": {
            "text/html": [
              "\n",
              "  <div id=\"df-58421e37-4789-48ae-93e2-43d73d11dfde\">\n",
              "    <div class=\"colab-df-container\">\n",
              "      <div>\n",
              "<style scoped>\n",
              "    .dataframe tbody tr th:only-of-type {\n",
              "        vertical-align: middle;\n",
              "    }\n",
              "\n",
              "    .dataframe tbody tr th {\n",
              "        vertical-align: top;\n",
              "    }\n",
              "\n",
              "    .dataframe thead th {\n",
              "        text-align: right;\n",
              "    }\n",
              "</style>\n",
              "<table border=\"1\" class=\"dataframe\">\n",
              "  <thead>\n",
              "    <tr style=\"text-align: right;\">\n",
              "      <th></th>\n",
              "      <th>device</th>\n",
              "      <th>pred</th>\n",
              "      <th>true</th>\n",
              "    </tr>\n",
              "  </thead>\n",
              "  <tbody>\n",
              "    <tr>\n",
              "      <th>0</th>\n",
              "      <td>B</td>\n",
              "      <td>intent2</td>\n",
              "      <td>intent10</td>\n",
              "    </tr>\n",
              "    <tr>\n",
              "      <th>1</th>\n",
              "      <td>A</td>\n",
              "      <td>intent1</td>\n",
              "      <td>intent2</td>\n",
              "    </tr>\n",
              "    <tr>\n",
              "      <th>2</th>\n",
              "      <td>A</td>\n",
              "      <td>intent4</td>\n",
              "      <td>intent4</td>\n",
              "    </tr>\n",
              "    <tr>\n",
              "      <th>3</th>\n",
              "      <td>C</td>\n",
              "      <td>intent2</td>\n",
              "      <td>intent4</td>\n",
              "    </tr>\n",
              "    <tr>\n",
              "      <th>4</th>\n",
              "      <td>A</td>\n",
              "      <td>intent4</td>\n",
              "      <td>intent4</td>\n",
              "    </tr>\n",
              "    <tr>\n",
              "      <th>...</th>\n",
              "      <td>...</td>\n",
              "      <td>...</td>\n",
              "      <td>...</td>\n",
              "    </tr>\n",
              "    <tr>\n",
              "      <th>9995</th>\n",
              "      <td>B</td>\n",
              "      <td>intent1</td>\n",
              "      <td>intent6</td>\n",
              "    </tr>\n",
              "    <tr>\n",
              "      <th>9996</th>\n",
              "      <td>C</td>\n",
              "      <td>intent1</td>\n",
              "      <td>intent4</td>\n",
              "    </tr>\n",
              "    <tr>\n",
              "      <th>9997</th>\n",
              "      <td>B</td>\n",
              "      <td>intent8</td>\n",
              "      <td>intent6</td>\n",
              "    </tr>\n",
              "    <tr>\n",
              "      <th>9998</th>\n",
              "      <td>C</td>\n",
              "      <td>intent2</td>\n",
              "      <td>intent6</td>\n",
              "    </tr>\n",
              "    <tr>\n",
              "      <th>9999</th>\n",
              "      <td>C</td>\n",
              "      <td>intent1</td>\n",
              "      <td>intent1</td>\n",
              "    </tr>\n",
              "  </tbody>\n",
              "</table>\n",
              "<p>10000 rows × 3 columns</p>\n",
              "</div>\n",
              "      <button class=\"colab-df-convert\" onclick=\"convertToInteractive('df-58421e37-4789-48ae-93e2-43d73d11dfde')\"\n",
              "              title=\"Convert this dataframe to an interactive table.\"\n",
              "              style=\"display:none;\">\n",
              "        \n",
              "  <svg xmlns=\"http://www.w3.org/2000/svg\" height=\"24px\"viewBox=\"0 0 24 24\"\n",
              "       width=\"24px\">\n",
              "    <path d=\"M0 0h24v24H0V0z\" fill=\"none\"/>\n",
              "    <path d=\"M18.56 5.44l.94 2.06.94-2.06 2.06-.94-2.06-.94-.94-2.06-.94 2.06-2.06.94zm-11 1L8.5 8.5l.94-2.06 2.06-.94-2.06-.94L8.5 2.5l-.94 2.06-2.06.94zm10 10l.94 2.06.94-2.06 2.06-.94-2.06-.94-.94-2.06-.94 2.06-2.06.94z\"/><path d=\"M17.41 7.96l-1.37-1.37c-.4-.4-.92-.59-1.43-.59-.52 0-1.04.2-1.43.59L10.3 9.45l-7.72 7.72c-.78.78-.78 2.05 0 2.83L4 21.41c.39.39.9.59 1.41.59.51 0 1.02-.2 1.41-.59l7.78-7.78 2.81-2.81c.8-.78.8-2.07 0-2.86zM5.41 20L4 18.59l7.72-7.72 1.47 1.35L5.41 20z\"/>\n",
              "  </svg>\n",
              "      </button>\n",
              "      \n",
              "  <style>\n",
              "    .colab-df-container {\n",
              "      display:flex;\n",
              "      flex-wrap:wrap;\n",
              "      gap: 12px;\n",
              "    }\n",
              "\n",
              "    .colab-df-convert {\n",
              "      background-color: #E8F0FE;\n",
              "      border: none;\n",
              "      border-radius: 50%;\n",
              "      cursor: pointer;\n",
              "      display: none;\n",
              "      fill: #1967D2;\n",
              "      height: 32px;\n",
              "      padding: 0 0 0 0;\n",
              "      width: 32px;\n",
              "    }\n",
              "\n",
              "    .colab-df-convert:hover {\n",
              "      background-color: #E2EBFA;\n",
              "      box-shadow: 0px 1px 2px rgba(60, 64, 67, 0.3), 0px 1px 3px 1px rgba(60, 64, 67, 0.15);\n",
              "      fill: #174EA6;\n",
              "    }\n",
              "\n",
              "    [theme=dark] .colab-df-convert {\n",
              "      background-color: #3B4455;\n",
              "      fill: #D2E3FC;\n",
              "    }\n",
              "\n",
              "    [theme=dark] .colab-df-convert:hover {\n",
              "      background-color: #434B5C;\n",
              "      box-shadow: 0px 1px 3px 1px rgba(0, 0, 0, 0.15);\n",
              "      filter: drop-shadow(0px 1px 2px rgba(0, 0, 0, 0.3));\n",
              "      fill: #FFFFFF;\n",
              "    }\n",
              "  </style>\n",
              "\n",
              "      <script>\n",
              "        const buttonEl =\n",
              "          document.querySelector('#df-58421e37-4789-48ae-93e2-43d73d11dfde button.colab-df-convert');\n",
              "        buttonEl.style.display =\n",
              "          google.colab.kernel.accessAllowed ? 'block' : 'none';\n",
              "\n",
              "        async function convertToInteractive(key) {\n",
              "          const element = document.querySelector('#df-58421e37-4789-48ae-93e2-43d73d11dfde');\n",
              "          const dataTable =\n",
              "            await google.colab.kernel.invokeFunction('convertToInteractive',\n",
              "                                                     [key], {});\n",
              "          if (!dataTable) return;\n",
              "\n",
              "          const docLinkHtml = 'Like what you see? Visit the ' +\n",
              "            '<a target=\"_blank\" href=https://colab.research.google.com/notebooks/data_table.ipynb>data table notebook</a>'\n",
              "            + ' to learn more about interactive tables.';\n",
              "          element.innerHTML = '';\n",
              "          dataTable['output_type'] = 'display_data';\n",
              "          await google.colab.output.renderOutput(dataTable, element);\n",
              "          const docLink = document.createElement('div');\n",
              "          docLink.innerHTML = docLinkHtml;\n",
              "          element.appendChild(docLink);\n",
              "        }\n",
              "      </script>\n",
              "    </div>\n",
              "  </div>\n",
              "  "
            ],
            "text/plain": [
              "     device     pred      true\n",
              "0         B  intent2  intent10\n",
              "1         A  intent1   intent2\n",
              "2         A  intent4   intent4\n",
              "3         C  intent2   intent4\n",
              "4         A  intent4   intent4\n",
              "...     ...      ...       ...\n",
              "9995      B  intent1   intent6\n",
              "9996      C  intent1   intent4\n",
              "9997      B  intent8   intent6\n",
              "9998      C  intent2   intent6\n",
              "9999      C  intent1   intent1\n",
              "\n",
              "[10000 rows x 3 columns]"
            ]
          },
          "metadata": {},
          "execution_count": 21
        }
      ]
    },
    {
      "cell_type": "code",
      "metadata": {
        "id": "lHnUFSJlFMj7",
        "colab": {
          "base_uri": "https://localhost:8080/"
        },
        "outputId": "28cbf555-9237-43ec-d81e-74e207731e23"
      },
      "source": [
        "data['result'] = data['pred'] == data['true']\n",
        "#true = data.groupby('device').agg('result').value_counts()\n",
        "true = data.groupby('device').agg('result').value_counts()\n",
        "accuracy_a = true[0]/ (true[0] + true[1])\n",
        "accuracy_b = true[3]/ (true[2] + true[3])\n",
        "print(accuracy_a)\n",
        "print(accuracy_b)"
      ],
      "execution_count": null,
      "outputs": [
        {
          "output_type": "stream",
          "name": "stdout",
          "text": [
            "0.6913357400722022\n",
            "0.1111111111111111\n"
          ]
        }
      ]
    },
    {
      "cell_type": "code",
      "source": [
        "data.groupby('device').agg('result').mean()\n"
      ],
      "metadata": {
        "colab": {
          "base_uri": "https://localhost:8080/"
        },
        "id": "J4kcZb5RflNk",
        "outputId": "86da54fd-e026-474d-b875-7747ddf3c34e"
      },
      "execution_count": null,
      "outputs": [
        {
          "output_type": "execute_result",
          "data": {
            "text/plain": [
              "device\n",
              "A    0.691336\n",
              "B    0.111111\n",
              "C    0.095252\n",
              "Name: result, dtype: float64"
            ]
          },
          "metadata": {},
          "execution_count": 39
        }
      ]
    },
    {
      "cell_type": "code",
      "source": [
        "from scipy import stats"
      ],
      "metadata": {
        "id": "0_MBrjwpg3IO"
      },
      "execution_count": null,
      "outputs": []
    },
    {
      "cell_type": "code",
      "source": [
        "b = data[data.device == 'B']['result']\n",
        "c = data[data.device == 'C']['result']"
      ],
      "metadata": {
        "id": "o_wKZCOlhIqH"
      },
      "execution_count": null,
      "outputs": []
    },
    {
      "cell_type": "code",
      "metadata": {
        "id": "2_36XXIjFLhn",
        "colab": {
          "base_uri": "https://localhost:8080/"
        },
        "outputId": "cbec2933-4621-42be-b543-7847289e44f5"
      },
      "source": [
        "stats.ttest_ind(b,c)\n"
      ],
      "execution_count": null,
      "outputs": [
        {
          "output_type": "execute_result",
          "data": {
            "text/plain": [
              "Ttest_indResult(statistic=2.129995030831306, pvalue=0.03320850075954022)"
            ]
          },
          "metadata": {},
          "execution_count": 55
        }
      ]
    },
    {
      "cell_type": "markdown",
      "metadata": {
        "id": "eXFfEIBe_1bi"
      },
      "source": [
        "7. посчитать основные метрики классификации на данном датасете"
      ]
    },
    {
      "cell_type": "code",
      "source": [
        "# я вспомнил метрики самостоятельно, а потом погуглил, чтобы понять как они работают для случая с множественными классами. \n",
        "\n",
        "# я нашел хорошее объяснение вот здесь: https://towardsdatascience.com/comprehensive-guide-on-multiclass-classification-metrics-af94cfb83fbd\n",
        "# и здесь: https://towardsdatascience.com/comprehensive-guide-to-multiclass-classification-with-sklearn-127cc500f362\n",
        "\n",
        "# код для вычисления метрик для кааждого класса писал сам."
      ],
      "metadata": {
        "id": "Tjuoxb762XPf"
      },
      "execution_count": null,
      "outputs": []
    },
    {
      "cell_type": "code",
      "source": [
        "classes = data.true.unique()"
      ],
      "metadata": {
        "id": "dhMuRM7b-DaX"
      },
      "execution_count": null,
      "outputs": []
    },
    {
      "cell_type": "code",
      "source": [
        "import numpy as np\n",
        "\n",
        "metrics = pd.DataFrame(np.zeros((10,4)))\n",
        "metrics.index = classes\n",
        "metrics.columns = ['precision','recall','F1','accuracy']"
      ],
      "metadata": {
        "id": "eV43od2RJBAo"
      },
      "execution_count": 128,
      "outputs": []
    },
    {
      "cell_type": "code",
      "source": [
        "for name in classes:\n",
        "\n",
        "  true_positive = data.true[(data.true == name) & (data.true == data.pred)].count()\n",
        "\n",
        "  false_positive = data.true[(data.pred == name) & (data.true != name)].count()\n",
        "\n",
        "  true_negative = data.true[(data.true != name) & (data.pred != name)].count()\n",
        "\n",
        "  false_negative = data.true[(data.true == name) & (data.pred != name)].count()\n",
        "\n",
        "  metrics.loc[name]['accuracy'] = true_positive/ (true_positive + false_positive + true_negative + false_negative)\n",
        "  metrics.loc[name]['recall'] = true_positive/ (true_positive + false_negative)\n",
        "  metrics.loc[name]['precision'] = true_positive/ (true_positive + false_positive)\n",
        "  metrics.loc[name]['F1'] = 2 * metrics.loc[name]['precision'] * metrics.loc[name]['recall']/(metrics.loc[name]['precision'] + metrics.loc[name]['recall'])\n",
        "\n",
        "metrics\n"
      ],
      "metadata": {
        "colab": {
          "base_uri": "https://localhost:8080/",
          "height": 363
        },
        "id": "ROheRoD9xlVu",
        "outputId": "37eff3bf-b1c3-45dd-b403-0cbd218fea52"
      },
      "execution_count": 129,
      "outputs": [
        {
          "output_type": "execute_result",
          "data": {
            "text/html": [
              "\n",
              "  <div id=\"df-4001a7e9-cb11-455f-910e-e27e4f6e87b4\">\n",
              "    <div class=\"colab-df-container\">\n",
              "      <div>\n",
              "<style scoped>\n",
              "    .dataframe tbody tr th:only-of-type {\n",
              "        vertical-align: middle;\n",
              "    }\n",
              "\n",
              "    .dataframe tbody tr th {\n",
              "        vertical-align: top;\n",
              "    }\n",
              "\n",
              "    .dataframe thead th {\n",
              "        text-align: right;\n",
              "    }\n",
              "</style>\n",
              "<table border=\"1\" class=\"dataframe\">\n",
              "  <thead>\n",
              "    <tr style=\"text-align: right;\">\n",
              "      <th></th>\n",
              "      <th>precision</th>\n",
              "      <th>recall</th>\n",
              "      <th>F1</th>\n",
              "      <th>accuracy</th>\n",
              "    </tr>\n",
              "  </thead>\n",
              "  <tbody>\n",
              "    <tr>\n",
              "      <th>intent10</th>\n",
              "      <td>0.316390</td>\n",
              "      <td>0.297561</td>\n",
              "      <td>0.306687</td>\n",
              "      <td>0.0305</td>\n",
              "    </tr>\n",
              "    <tr>\n",
              "      <th>intent2</th>\n",
              "      <td>0.284449</td>\n",
              "      <td>0.283056</td>\n",
              "      <td>0.283751</td>\n",
              "      <td>0.0289</td>\n",
              "    </tr>\n",
              "    <tr>\n",
              "      <th>intent4</th>\n",
              "      <td>0.290616</td>\n",
              "      <td>0.289157</td>\n",
              "      <td>0.289884</td>\n",
              "      <td>0.0288</td>\n",
              "    </tr>\n",
              "    <tr>\n",
              "      <th>intent9</th>\n",
              "      <td>0.325188</td>\n",
              "      <td>0.327032</td>\n",
              "      <td>0.326107</td>\n",
              "      <td>0.0346</td>\n",
              "    </tr>\n",
              "    <tr>\n",
              "      <th>intent8</th>\n",
              "      <td>0.311587</td>\n",
              "      <td>0.315271</td>\n",
              "      <td>0.313418</td>\n",
              "      <td>0.0320</td>\n",
              "    </tr>\n",
              "    <tr>\n",
              "      <th>intent7</th>\n",
              "      <td>0.277487</td>\n",
              "      <td>0.282818</td>\n",
              "      <td>0.280127</td>\n",
              "      <td>0.0265</td>\n",
              "    </tr>\n",
              "    <tr>\n",
              "      <th>intent6</th>\n",
              "      <td>0.286585</td>\n",
              "      <td>0.280040</td>\n",
              "      <td>0.283275</td>\n",
              "      <td>0.0282</td>\n",
              "    </tr>\n",
              "    <tr>\n",
              "      <th>intent1</th>\n",
              "      <td>0.316751</td>\n",
              "      <td>0.313883</td>\n",
              "      <td>0.315311</td>\n",
              "      <td>0.0312</td>\n",
              "    </tr>\n",
              "    <tr>\n",
              "      <th>intent3</th>\n",
              "      <td>0.296670</td>\n",
              "      <td>0.304033</td>\n",
              "      <td>0.300306</td>\n",
              "      <td>0.0294</td>\n",
              "    </tr>\n",
              "    <tr>\n",
              "      <th>intent5</th>\n",
              "      <td>0.279570</td>\n",
              "      <td>0.291837</td>\n",
              "      <td>0.285572</td>\n",
              "      <td>0.0286</td>\n",
              "    </tr>\n",
              "  </tbody>\n",
              "</table>\n",
              "</div>\n",
              "      <button class=\"colab-df-convert\" onclick=\"convertToInteractive('df-4001a7e9-cb11-455f-910e-e27e4f6e87b4')\"\n",
              "              title=\"Convert this dataframe to an interactive table.\"\n",
              "              style=\"display:none;\">\n",
              "        \n",
              "  <svg xmlns=\"http://www.w3.org/2000/svg\" height=\"24px\"viewBox=\"0 0 24 24\"\n",
              "       width=\"24px\">\n",
              "    <path d=\"M0 0h24v24H0V0z\" fill=\"none\"/>\n",
              "    <path d=\"M18.56 5.44l.94 2.06.94-2.06 2.06-.94-2.06-.94-.94-2.06-.94 2.06-2.06.94zm-11 1L8.5 8.5l.94-2.06 2.06-.94-2.06-.94L8.5 2.5l-.94 2.06-2.06.94zm10 10l.94 2.06.94-2.06 2.06-.94-2.06-.94-.94-2.06-.94 2.06-2.06.94z\"/><path d=\"M17.41 7.96l-1.37-1.37c-.4-.4-.92-.59-1.43-.59-.52 0-1.04.2-1.43.59L10.3 9.45l-7.72 7.72c-.78.78-.78 2.05 0 2.83L4 21.41c.39.39.9.59 1.41.59.51 0 1.02-.2 1.41-.59l7.78-7.78 2.81-2.81c.8-.78.8-2.07 0-2.86zM5.41 20L4 18.59l7.72-7.72 1.47 1.35L5.41 20z\"/>\n",
              "  </svg>\n",
              "      </button>\n",
              "      \n",
              "  <style>\n",
              "    .colab-df-container {\n",
              "      display:flex;\n",
              "      flex-wrap:wrap;\n",
              "      gap: 12px;\n",
              "    }\n",
              "\n",
              "    .colab-df-convert {\n",
              "      background-color: #E8F0FE;\n",
              "      border: none;\n",
              "      border-radius: 50%;\n",
              "      cursor: pointer;\n",
              "      display: none;\n",
              "      fill: #1967D2;\n",
              "      height: 32px;\n",
              "      padding: 0 0 0 0;\n",
              "      width: 32px;\n",
              "    }\n",
              "\n",
              "    .colab-df-convert:hover {\n",
              "      background-color: #E2EBFA;\n",
              "      box-shadow: 0px 1px 2px rgba(60, 64, 67, 0.3), 0px 1px 3px 1px rgba(60, 64, 67, 0.15);\n",
              "      fill: #174EA6;\n",
              "    }\n",
              "\n",
              "    [theme=dark] .colab-df-convert {\n",
              "      background-color: #3B4455;\n",
              "      fill: #D2E3FC;\n",
              "    }\n",
              "\n",
              "    [theme=dark] .colab-df-convert:hover {\n",
              "      background-color: #434B5C;\n",
              "      box-shadow: 0px 1px 3px 1px rgba(0, 0, 0, 0.15);\n",
              "      filter: drop-shadow(0px 1px 2px rgba(0, 0, 0, 0.3));\n",
              "      fill: #FFFFFF;\n",
              "    }\n",
              "  </style>\n",
              "\n",
              "      <script>\n",
              "        const buttonEl =\n",
              "          document.querySelector('#df-4001a7e9-cb11-455f-910e-e27e4f6e87b4 button.colab-df-convert');\n",
              "        buttonEl.style.display =\n",
              "          google.colab.kernel.accessAllowed ? 'block' : 'none';\n",
              "\n",
              "        async function convertToInteractive(key) {\n",
              "          const element = document.querySelector('#df-4001a7e9-cb11-455f-910e-e27e4f6e87b4');\n",
              "          const dataTable =\n",
              "            await google.colab.kernel.invokeFunction('convertToInteractive',\n",
              "                                                     [key], {});\n",
              "          if (!dataTable) return;\n",
              "\n",
              "          const docLinkHtml = 'Like what you see? Visit the ' +\n",
              "            '<a target=\"_blank\" href=https://colab.research.google.com/notebooks/data_table.ipynb>data table notebook</a>'\n",
              "            + ' to learn more about interactive tables.';\n",
              "          element.innerHTML = '';\n",
              "          dataTable['output_type'] = 'display_data';\n",
              "          await google.colab.output.renderOutput(dataTable, element);\n",
              "          const docLink = document.createElement('div');\n",
              "          docLink.innerHTML = docLinkHtml;\n",
              "          element.appendChild(docLink);\n",
              "        }\n",
              "      </script>\n",
              "    </div>\n",
              "  </div>\n",
              "  "
            ],
            "text/plain": [
              "          precision    recall        F1  accuracy\n",
              "intent10   0.316390  0.297561  0.306687    0.0305\n",
              "intent2    0.284449  0.283056  0.283751    0.0289\n",
              "intent4    0.290616  0.289157  0.289884    0.0288\n",
              "intent9    0.325188  0.327032  0.326107    0.0346\n",
              "intent8    0.311587  0.315271  0.313418    0.0320\n",
              "intent7    0.277487  0.282818  0.280127    0.0265\n",
              "intent6    0.286585  0.280040  0.283275    0.0282\n",
              "intent1    0.316751  0.313883  0.315311    0.0312\n",
              "intent3    0.296670  0.304033  0.300306    0.0294\n",
              "intent5    0.279570  0.291837  0.285572    0.0286"
            ]
          },
          "metadata": {},
          "execution_count": 129
        }
      ]
    },
    {
      "cell_type": "code",
      "source": [
        "print('the average precision is ' + str(metrics.precision.mean()))\n",
        "print('the average recall is ' + str(metrics.recall.mean()))\n",
        "print('the average F1 score is ' + str(metrics.F1.mean()))"
      ],
      "metadata": {
        "colab": {
          "base_uri": "https://localhost:8080/"
        },
        "id": "HGvIH_sxDA2S",
        "outputId": "98ea04be-614c-4b6c-a2d9-2b67d51cd823"
      },
      "execution_count": 147,
      "outputs": [
        {
          "output_type": "stream",
          "name": "stdout",
          "text": [
            "the average precision is 0.2985292985834665\n",
            "the average recall is 0.2984686852946576\n",
            "the average F1 score is 0.29844377286651425\n"
          ]
        }
      ]
    },
    {
      "cell_type": "code",
      "source": [
        "# так же можно использовать инструмент sklearn. полученный результат немного отличается, видимо имплементация немного другая. \n",
        "# но средний резльутат такой же\n",
        "\n",
        "from sklearn.metrics import classification_report\n",
        "\n",
        "print(classification_report(data.pred,data.true,target_names = classes))"
      ],
      "metadata": {
        "colab": {
          "base_uri": "https://localhost:8080/"
        },
        "id": "ws0l490I8d-7",
        "outputId": "ea3effb4-a939-4575-f4eb-143c6882b9e4"
      },
      "execution_count": null,
      "outputs": [
        {
          "output_type": "stream",
          "name": "stdout",
          "text": [
            "              precision    recall  f1-score   support\n",
            "\n",
            "    intent10       0.31      0.32      0.32       985\n",
            "     intent2       0.30      0.32      0.31       964\n",
            "     intent4       0.28      0.28      0.28      1016\n",
            "     intent9       0.30      0.30      0.30       991\n",
            "     intent8       0.29      0.29      0.29       991\n",
            "     intent7       0.29      0.28      0.29      1023\n",
            "     intent6       0.28      0.29      0.28       984\n",
            "     intent1       0.28      0.28      0.28       955\n",
            "     intent3       0.32      0.31      0.31      1027\n",
            "     intent5       0.33      0.33      0.33      1064\n",
            "\n",
            "    accuracy                           0.30     10000\n",
            "   macro avg       0.30      0.30      0.30     10000\n",
            "weighted avg       0.30      0.30      0.30     10000\n",
            "\n"
          ]
        }
      ]
    },
    {
      "cell_type": "markdown",
      "metadata": {
        "id": "F9xxswMl_1bj"
      },
      "source": [
        "8. визуализировать confusion matrix"
      ]
    },
    {
      "cell_type": "code",
      "metadata": {
        "id": "jYhoQbowFLMx",
        "colab": {
          "base_uri": "https://localhost:8080/",
          "height": 683
        },
        "outputId": "24e03d0f-df89-4b80-bd7b-54e3d96b4611"
      },
      "source": [
        "import matplotlib.pyplot as plt\n",
        "from sklearn.metrics import ConfusionMatrixDisplay, confusion_matrix\n",
        "\n",
        "fig, ax = plt.subplots(figsize=(12, 12))\n",
        "\n",
        "cmp = ConfusionMatrixDisplay(\n",
        "    confusion_matrix(data.pred, data.true),\n",
        "    display_labels=classes,\n",
        ")\n",
        "\n",
        "cmp.plot(ax=ax)\n",
        "plt.show();"
      ],
      "execution_count": null,
      "outputs": [
        {
          "output_type": "display_data",
          "data": {
            "image/png": "[encoded data removed]",
            "text/plain": [
              "<Figure size 864x864 with 2 Axes>"
            ]
          },
          "metadata": {
            "needs_background": "light"
          }
        }
      ]
    },
    {
      "cell_type": "markdown",
      "metadata": {
        "id": "yEBduzxYt1JW"
      },
      "source": [
        "------"
      ]
    },
    {
      "cell_type": "markdown",
      "metadata": {
        "id": "JiPS22fetzJa"
      },
      "source": [
        "# Python"
      ]
    },
    {
      "cell_type": "markdown",
      "metadata": {
        "id": "bZjGCMoeE-ef"
      },
      "source": [
        "1. Реализовать класс, который при инициализации получает имя JSON файла, считывает оттуда параметр \"degree\" - степень, в которую класс возводит входящее число при вызове метода calculate"
      ]
    },
    {
      "cell_type": "code",
      "metadata": {
        "id": "hGC_Df-KFAYS"
      },
      "source": [
        "import json\n",
        "\n",
        "filename = 'settings.json'\n",
        "\n",
        "with open(filename, 'w') as f:\n",
        "    f.write(json.dumps({'degree': 3}, ensure_ascii=False, indent=4))"
      ],
      "execution_count": 215,
      "outputs": []
    },
    {
      "cell_type": "code",
      "metadata": {
        "id": "zbMUmcOGFBm3"
      },
      "source": [
        "class Solution:\n",
        "\n",
        "  def __init__(self,filename):\n",
        "\n",
        "    self.filename = filename\n",
        "\n",
        "  def calculate(self,number):\n",
        "\n",
        "    file = open('settings.json')\n",
        "    file_dict = json.load(file)\n",
        "    degree = file_dict['degree']\n",
        "    return number ** degree"
      ],
      "execution_count": 216,
      "outputs": []
    },
    {
      "cell_type": "code",
      "source": [
        " result = Solution(filename)\n",
        " result.calculate(10)"
      ],
      "metadata": {
        "colab": {
          "base_uri": "https://localhost:8080/"
        },
        "id": "8wbyzOhIjI8D",
        "outputId": "fa1d7609-6994-4494-ce0c-142d45887a48"
      },
      "execution_count": 219,
      "outputs": [
        {
          "output_type": "execute_result",
          "data": {
            "text/plain": [
              "1000"
            ]
          },
          "metadata": {},
          "execution_count": 219
        }
      ]
    },
    {
      "cell_type": "markdown",
      "metadata": {
        "id": "1Pzd5ZMTt4Sj"
      },
      "source": [
        "2. Найти за линейное время 2 элемента в массиве, сумма которых равна заданному"
      ]
    },
    {
      "cell_type": "code",
      "metadata": {
        "id": "lhA0JO-stph5",
        "colab": {
          "base_uri": "https://localhost:8080/"
        },
        "outputId": "e9f0cec8-d62c-4276-c847-8acc982ab298"
      },
      "source": [
        "from random import randint\n",
        "l = [randint(1, 100) for i in range(10*1000*1000)]\n",
        "l[:10]"
      ],
      "execution_count": null,
      "outputs": [
        {
          "output_type": "execute_result",
          "data": {
            "text/plain": [
              "[24, 45, 35, 91, 84, 53, 31, 44, 15, 64]"
            ]
          },
          "metadata": {},
          "execution_count": 66
        }
      ]
    },
    {
      "cell_type": "code",
      "metadata": {
        "id": "NYUWekoDFHk0"
      },
      "source": [
        "# первое решение, которое я написал во время интервью\n",
        "\n",
        "def solution_slow(l,number):\n",
        "\n",
        "  for i in l:\n",
        "\n",
        "    if i < number:\n",
        "\n",
        "      for j in l: \n",
        "\n",
        "        if j < number:\n",
        "\n",
        "          if i + j == number:\n",
        "\n",
        "            return i,j\n",
        "\n",
        "\n"
      ],
      "execution_count": 206,
      "outputs": []
    },
    {
      "cell_type": "code",
      "source": [
        "solution_slow(l,50)"
      ],
      "metadata": {
        "colab": {
          "base_uri": "https://localhost:8080/"
        },
        "id": "yeZsNQFPU-jU",
        "outputId": "a53a21bc-bbd7-4284-eb30-03e3b57f2cc1"
      },
      "execution_count": 207,
      "outputs": [
        {
          "output_type": "execute_result",
          "data": {
            "text/plain": [
              "(24, 26)"
            ]
          },
          "metadata": {},
          "execution_count": 207
        }
      ]
    },
    {
      "cell_type": "code",
      "source": [
        "# второе решение, которое я написал в время интервью - оно быстрее. \n",
        "\n",
        "def solution_faster(l,number):\n",
        "\n",
        "  set_l = set(l)\n",
        "\n",
        "  for i in l:\n",
        "\n",
        "    j = (number - i)\n",
        "\n",
        "    if j in set_l:\n",
        "\n",
        "      return i,j\n",
        "\n"
      ],
      "metadata": {
        "id": "3xhxs305mqiu"
      },
      "execution_count": 204,
      "outputs": []
    },
    {
      "cell_type": "code",
      "source": [
        "solution_faster(l,50)"
      ],
      "metadata": {
        "colab": {
          "base_uri": "https://localhost:8080/"
        },
        "id": "GvbEZV6XlUa-",
        "outputId": "abd9dd94-f3d7-4889-cd73-b7bb28a66d16"
      },
      "execution_count": 205,
      "outputs": [
        {
          "output_type": "execute_result",
          "data": {
            "text/plain": [
              "(24, 26)"
            ]
          },
          "metadata": {},
          "execution_count": 205
        }
      ]
    },
    {
      "cell_type": "code",
      "source": [
        "# я погуглил и нашел решение аналогичной проблеме, адаптировал его. \n",
        "# думаю что это оптимальный алгоритм.\n",
        "\n",
        "def solution_optimal(l, number):\n",
        "    \n",
        "    d = {}\n",
        "\n",
        "    for i in l:\n",
        "\n",
        "      j = number - i\n",
        "\n",
        "      if j in d:\n",
        "\n",
        "        return [i,j]\n",
        "\n",
        "      else:\n",
        "\n",
        "        d[i] = 1"
      ],
      "metadata": {
        "id": "5TMY1ryZ4jFu"
      },
      "execution_count": 256,
      "outputs": []
    },
    {
      "cell_type": "code",
      "source": [
        "solution_optimal(l,99)"
      ],
      "metadata": {
        "colab": {
          "base_uri": "https://localhost:8080/"
        },
        "id": "LSCWTrTC6ASF",
        "outputId": "3897b85e-ffa6-4c5a-f152-a040fe89af56"
      },
      "execution_count": 257,
      "outputs": [
        {
          "output_type": "execute_result",
          "data": {
            "text/plain": [
              "[15, 84]"
            ]
          },
          "metadata": {},
          "execution_count": 257
        }
      ]
    },
    {
      "cell_type": "markdown",
      "metadata": {
        "id": "atHEgGmD_1bm"
      },
      "source": [
        "3. Дана строка из букв и знаков препинания. Проверить, является ли строка палиндромом. Знаки препинания на \"свойство палиндромности\" не влияют."
      ]
    },
    {
      "cell_type": "code",
      "metadata": {
        "colab": {
          "base_uri": "https://localhost:8080/"
        },
        "id": "NSQALDURCsyT",
        "outputId": "8d9dad25-e2a6-43db-f650-d13e8deb3052"
      },
      "source": [
        "from random import choice\n",
        "\n",
        "test_strings = [\n",
        "  'лев осовел',\n",
        "  'Лев, осовел',\n",
        "  'не полиндром',\n",
        "]\n",
        "generated_palindrome = [choice('wertyuasdfghjxcvbnm') for i in range(10000)]\n",
        "generated_palindrome = ''.join(generated_palindrome+list(reversed(generated_palindrome)))\n",
        "generated_not_palindrome = ''.join([choice('wertyuasdfghjxcvbnm') for i in range(20000)])\n",
        "test_strings.extend([generated_palindrome, generated_not_palindrome])\n",
        "test_strings"
      ],
      "execution_count": 179,
      "outputs": [
        {
          "output_type": "execute_result",
          "data": {
            "text/plain": [
              "['лев осовел',\n",
              " 'Лев, осовел',\n",
              " 'не полиндром',\n",
              " 'avbbwucncaddffgjscegjhaursggbthcnujmwxsehcugdebhunfvbmsesmmxmvvrxjnwsjcjxrdvytsegyancgmnwbnwyyhrjumxuthhuytefsvademhcrshcffjabfhbfrhabcfwxmwsjrrndyjghryjtnratnddcbrwaejrhwybjhmyxwxydhfymxbafwtnumcustcmjybeusymwggyyatebgwvxdsmvgyycrvbedwrrhxnwygtysmxuvymhvtfctwhnggfasdrdcfrwvtmrmdabxuccejfynejfjbbyjvvmfndurnncawssucvmyyrbgwnefgmhgvhedrjgjwdydwyuctjmtdajagbayxxwebtngnwwttvrgjfydbcbsyjecxtfdndjtrmewbbrejebwnrjgjhffjdbsrtabycynnbtxyuysauhfvmxfxnaexgumbsvcwevghmgxnwfnmeyfgbcyfgggjnunwfraxyhnyjtjuvadahbgawtdvvfhmtugcrtavywerydarsmbhtehvghsehsxshshwjrrhngfaatummsrttxggycfraxtfdgsxcwuguvbgxahxvmsjhsfywcvawhtcuhfhdyruneehvaxxrhcfnuyjvvtjcybjesndbvhfxxjbyejrjarmvcgvsuhhxjejbgshgadwymmgxwhfsghchnjwhvvdsxrejnswtcavwmhsjyngnhwtvxcvvgdjgcyssabvjucmwubwyehuadbjawtdsxntmwywhwbmgctysfmgyjtsbbnefauxbhuxudvdhddnbxgwfsnxwrbvdbegxvttuwufafhnmexbfnvduevmsscsrmbdbhjbegyshwymdfdcgwuscxrsftmdgmrwrfyxbcrcuwvjtxjffuwrtdubeubnytajawydswtrnhfebbnenurnhsedfebvrfctjensnbaaahaxdtynrfnumbwbbrjcmjmctrsabgytftcvgrswameueagjsrwtuvmrjcdxnjesgbfndtcwbtgehxhcdedvmtfasmnwsmcfvfdmuehbcrwfbwwmbagcafswjjesdcfajcyucrmbgdraghxfccwjvtvcjbteafsafwgwaajvuernvarsuxtftmatugamrhjtbdjywsycufrchgauycjnyegcwtmwysbutjvbvnhdbmverxaxjfuynyvthvhueruusvcftrhduhdfnbxhxrburwumvhwsytbadfmjgfjrbavnhymmhmxsjcadjgwxfdbnxebmmynjabrgjtdcyghbtdemxvemgyurycrduwxttrdxbhtscfwtdnuedvurduynhmgjwtadyxefjjubsbuafrcrfmhyxhvmsehmburwtershrcbhhusrsxsbevnuvaueuwmbbcfmafyddsuuryxybfxvcwdurdfymfcccyyyfwhxmhgvcaycbauamxvbfhvwrwuujxduanwyactsbgjjdddatxrbccrghdvcseyfsrfvxnbfbfbfvjadedwsabcntthmuwnbfrndjxxutxcxyyjadfawvwufbdvbymrecjuuujuvafystbdfcetfgbdwfebgryurjjfnrmrntxeegnusennrrhefumgyaeuvcvdhubfghemctejremandujhmmnhentctrnxfsgfasmvwefmsuntgeghumghfbfthgmhagyufwscnutghgyehwvtffghngauygvnfwwjachetxmcvufwfaxuyahdfxbguruwuucceemsjrrdnuwmhamshyaxcdsftxxnhatydtvuwgnxegtbtbcuuugttwgxcutdnrbvnwerbwnugdjnhjvsfvgrssnwcxmysrnccmxwngstvhdttyeuvnenesbdfvrsutnsrnmfxmgrnsanugebudfuefwhxwbremagnhyngauufsvecfxubtdjvebvmyvgbrxsfgfgbefsmdehcawtrnrgtbfyardhrgdfvjxywatmyuhjdndrtbajumafejjadwbybjwdsdjrrjfruxddsgbttruxmmfxyufurrynbjayagcrntcxaveccbrfdvaydemeudugnurcbnjvedtvcatjeyvnmxxgswuddcextxeabujtbdnuhggnywryfffbvfcgyrxdtduxhfbbxxameraafgyafeeacxeyebycewttyudgbcvcmtanxetuvujgvrwrmbjmfnjuhgwharjhtvwmygavdxayavbramuhdjnrywfsjbctexfgbaxefcwmsbyjwgugahfahguysfjuhddnsbxjehwuwwbagjjjhgeftdgeacttxadxvgwfdxxdgrgybjxtvswdnayhwydaymcucfvmmxymawhyweexmdtrcthbewwemgvudnetyvsxgycxywrmnfewgfyuycudxaefnwbhecccjxjeuebcjhryhebbhgmndmjyhhfjahewjgnecanbcrvusrhbebxjhxafwwhcsyvxxtxucjedbfcawtcttnsrgcdngjabrcdfcbstmysbmxdunstgunuugwghntxrwxebmbxtwhwjcchsaswsgbffcssyeyugfufjfvfdvrawffwyjexendxcdjajcvbtadjhhhcdhbrrxayymtemueyhjnwwnwcxmubnjuunsrgnabnduwwwvjjvntfjefwtedrwadrbdddxmrrbrnsfevfwsrrfffdxyuydanbccgshcnufbebuwbaemxebjmuuurrnsfbvxmcecrbrarvyfevyanfsjfjfettfmmhjuwbwnrfwmstewedvmheyemhevsbvdrmggcabnnxuhdgvcnujetatmuvehdtsdedxvffarwxbxafhdxdhncyuxgarudbrjxfnabwjanrhnegfnxavtfednjvyygjdhvcerjadvecvgmywwwvdhfyfjsddwynwvwgxxbguxbgsbwxufsmybyssnrhvavmhuxcuncjbfhhdjfsdxhnvxfaddubuyrvxrwjbhjmysjxyhjtjjattxxvgcdjvvncdewwsvmmvrecgfjgbduvdcjchhfaudyyseuryefsywbshrcfvnxcxhynjmbmbbjwmyebmhhgnguemscrmcvcjvecehntdwwhjynwrdtbswxrxvbybehdycsnydfbeacvwmtbjatgnsgjtschcfhsahaafjsdendrwrudttemgtdxnhnnccxbavbcjfyxmddueddcsdehvebguxdtcwtbdmudvjcufgxrbcddhdjuufyegcvcdchrxafcsvfvdgugcyxawfwjffcnefjjcdttvhfvycdhxurnadhnxwraxrshhjmhvfdynagbmfcxhtntghsybxguhwesejwysjwhyuassuteunfsebnuvbvxsuahvvuudxuadmuatvxcxxecvrcxrbhyhtntwbnhdcxfmaanjguaeuhxejratxsnxahmtfysuhfegntrymsgtxyymsbjsjhhydxuvwtrwetjrhjmcrybrncejyeghvhywvuxhugaagxnnyyxavycuengmugawdaahjagymsmwdfhwfjfjndsbucasavxghjwymxuvftyrcyfhjttfbutjgddrajgsfewyujxyabatwnuxsjbfxacxgdcnscngbahbdemaehmwasbxvcxrmdgfxndcjnnmdtvfawrxmhttvrgsvmuavdcyyxfuxsumgtsebmxbxadytxyhjagaeghwccebercnheuumumhwfxrtfehffgrajtsevajvmnaabnwerfmhehfssaaeccutmdsdhusasmbmrawrjmxxwynjcvwvfvnrcygfwjcdjvrfxwcujwtrjfxeftasxfvreuwbdunhjebvdsywajhbghbsyemyvdcwumewevdxjbjbxwjbwrbbmsjfghmgsrtavujujsangbrnmngsyueevagjytcunywbbuadehdaebybfeunwarbjrugcjysuatacwredenjyvxhnrhwcmcdsgjsxahfjygxuxdyjcgdsegenwcchcedmxvhwrhxnsrmevtwfhsxavwvhrrhrhjywfufxbedgxffvmuxxuxxhtbtfvbahnrxaxjtdbdtmfcfmcnwgshnbhcdysevffsxhxbjhfvfsmwatmysgvramxxmwcewmtrngtrbxfdvefdfstacwjmgedaygjtsuwsbrsrvudavhunnduaehydaejthwjrnwtcvhuhafdtusfgcrvncsnvubuvydevmcbngtmsmdawvueansvrxnhsxagxcfcugvccnygeftrbjfhgxacgeyhyhbecdcswgxjxyfsbruxxtxhcahfhdcftuevhustvxdjstrmxascmbeeaymbfybvshmrsvuhgsabcbvbmhahvgstbhsxvymfcaxahbvuaufcmshfhfewfhttrycaxnmcmgesdscvybsvrfvsnfdeuecvcesvejdaajacbumemttxfaemdwatvrchudnxvwbvchvangefngnrwyftwhuyrsyxjawsvbbwaagdaednhawrtdmjhxhcgsdexfhwmjuujnhxrcdsnmtarbybxmgghssjxesugfgnuhmrnbemvgnvugtmcvbnduycntjbjsfvdhguxdmhhrhyxcvcrjsbssyfuaumntdfnyewtvrbctbheuynbjvuywxvjrwcgwxeswmdbagygngryrmeysrhhagugnhsdabtfxffdfbxurbugsjbfvufhabejucwywhjxbnueghyayhdjcxuubgubrsfedhfbdjvtmugvebudhtnrjadwnymawcnuwdcenyhshjgbwrdyetetgnjxexucrymdtttmruathxndjttsyemajfexmjnxhmssachrafnwmtesmhxfccaxrcfufamxbthgysxnvaavhmyjrvtbetschuhdbwjhamnrasesstyybytevnuyyhtmgjvsxuftghnaabgsmfhgxcawjfxuwsxsjsayrymwbardtyggtyvtywfmagcyjfgmmeytbhctmtwydedfdxahmnwxvsgyfdtjgyhtfxjnbfssyrahvseenehdmmwrsuagmyhvdesftugwsjbsbmydmyfxchatnafucfhjhgbjbnnycbtuafdyesayxwceuhubsvjtgmxsmytvwdhrcrbmawedbatvubyhubbbtjjjsuxdvnygvgyccfrveungwervbngcwjjcftvadgnrjwgscghjhwmngsmvsvwcxjgcsbuugeewvgewxdwmecwmjndxawhnscmuhrehaemssrnaxhrysfbncwjabnuafhwnndttrafwctnernrmnxtgbnctemaysjgccvsdcbfuhmnhgjvywrbbttyjmajwnfjgdtushnxnuuyjuuwfybbvcbnwucwvatyfcxdccwrgaxnvbhhjxhfjdxcutevseybjrgfvabyxvnswbsuyxmxyaavcyfdadcmjfrmmtnytmnvxfwwnbubnxrsxcyuuuhujgrjnxjnfetdmvdaffthfaemsradbgnevbgtgddatxmgumvufutmbywbdtygrauwgdsevhuwxhufcjndehwgcuffttcbxayyrnsnhrddgdmvdjdtmdjmbyhfgaacbsehwbrnxbntrnggnrtgcrvhxdyrharjudrjujttsfajnwjracretmcymsxffbhtnecyfryygmavyvsxwsnjtddeubxmhjfxsjnwbvtuxcbeehdxjffvrasaustcvjygjdehuuvtsnxhycwtumrvtbemdbcnjyshvxdyneehxgxwmuuvcmxeurbvnravmxsymdetjtcwdsnbncfrtvusgedvbbnmnnenbywfnjncwhxbsrmwvmmfexnhdhswuemrtaxdcntfbmhbndjcvtbsmcnhrwrjjyrecsjrruduhhuwwdjrndmuvrumnryccjttarnudrsrywddrydaravynyunwbadnvcewhehxrrashydguyrftgdccghyxngcashsshrwbbncxenaydtyetaffvdadujtysawcmrdsudmybtgfavgrdnsvwyxhchgrhryjbmjbatdvtbuhgrmeyehjrvcdcfhacnbxcuhmwwbubnbwcrdtjdhvegtbfenddredmuecdhdvwaahmyvesnuyxnbfruarssdvemmyvmexjdretvjmfcmcmbarfuvnstduvhacsrytjfrxmghehhduwrdsxnbymtaneuywvhestuagefutdswdxwdnwswsmbevtncyfjymdbsjaaxxaewnftebywyajxgjtesnbdmhwthwtfjhyenuedmxxjswgbdryngnhgfasrchymjrtcudsfubrjscnnyrmfatwsrwgwycjghnwmtxdwahvrxfumreybabdssntnefsxrsfxrdhhbfcfhedwxyxrjhvhembxufhnrtdsrmhuyfntgnmgnwdtmgsubtuexjuvsmddwaguysdyrenmnudgeaytfccwrhhtyaxhvbvwhgxgssxgnewbsfsuudtccxjwxruentmbtvgdbceaaegyjsshtvshrevchddgsgtgvmfymtnuhcjwnfemdcmgwsafanvmafsgfchytberudtrjbrfvscgundnbysdnwrmaswtwyffmexrgtdduveyaxerfsyaaameeyvnmnryrwmhrebhsrmuwcgxjvrehsubyhbjbdvbyarfmwungnrcygytbrcrucstruawcwhtfvbgvycfscdyswhshnarhuaenfeufarugrjvfeebbjyjfmayxyxgsfvyexucyujywmufugtderfjyjrvygvchdwbecvvvhtsyhdffgbjxtdncydfcrtwuugajrtuygwsjeawcwjswfbdcwjunwwewtsxrfcfwgmmdbwcauwettbccncrcyuvasutsfsvxwbbxwtstwvhsbumvwxxcetgjeubyrunberbsgeegcxebgecbwwbuexdjcfxnurmnvvxcjfyardfhuxbrtxudngfnvtwbvrcnxmuhwcncabenjuctvthgxrvsagsjemegnvvgccttjffehcjfbnyrwateaxfthvyyddfscmdhgenvwevsvbbnsxngtbmavjfhcnyuduaxycxhdtcfnnsajvtrgtxxttearhebjdascvvsjbvwnfmmfasjmaysnbcybfesnfysxtnnnjdsrueensssfmhwduduvytsbwmxxfwshyfjdhswwfdggbmvjyhtmtbgegudbcvgcwdycxhjcwandwhjydhaetchtdgyurdhrerdcfxdmbjetmgywbgvtdjtxcwfgjgxwddcbffdaecsswmevthhryrjhgrvuddrvwevtfysavxbjjnsstjbvbctbahhgnfyehnhcwxfnswhrvvfdxmdxvxsnbateadhvjrbswabveyefrbtrasuxbsjaedexbnxtfaemdjdrcmvryrabjgrgjvbjnsbxjbrefyyvedrhfjahnyvtmfbfffngrhmhshuwdmgngmcavfgratggxdxdvhewvauaajstfbjvfgtvxddvujahgyjxtrvdumheyfxvhchdgjudtxchdacsaysahgnuxbwaduajgmbbgngjjfrwsthvyerrmxdhramgggyafbnjbybwhujfbywwgtvesdyafmcbuvgvuuendbhffbccvmwbsbntchuvrcmbjrgdbtahbfvbrgtmghmrmvuutfcdgytvbsrsbtgaddjvxmfcmusadfseyrwwfyjrjscangcrmgdfrjncjstscynbudeuycvbmrvanvdhamgmayfectrehmtrnrmcuvmamtevxdredertggxdggaevuawmefwgasdfwywgxbcruwmacbjdxgtstxgevyvygwgtceagbutyjbbwdwvuhvvrwwrasfgmayhufwwjxxfrdvhjjwmewgmfgagnxrhsrwgnshvnbbaegrtceermfbfmgsebfdvvadxjahwfddnjjxrnbujjhstcftnhmubgbsrbtdtmtravtvswamhnrmyjvuergxgjbbtusfjdjdyufexbjjennjgrnsvfdnxsamafnfbghuvtdcauyvrmdmcddvdvhcsxrteubscymcjbjemtgfactaydjuabnnxsfvufvyajwawajjfgngnmgurhtxrbbmuasjyfjbevmdctjyfwhgcgtecbbyavbsmcsdydsjjwgecbaubeydedngsgnaywwugvfhertjdgeaewmrrgtfsnyewyumexsteggunfsjjvbrftutcheathrmdyvdhdjycmanmsfnttwfxvffjdmdnhwxmeusbrfvmnwfabyxjsuttddyxeyhbwjaxxsvfnwmgseweyndgmgdsyuveawrtusdebxjefgbcbevrrjvufwnxttjmyvtutatndaxmugvjmmhmsbxmvjyhnatxnwgsssesjherbywdvggvcgrtynwubgrmtsgyyjxbtwrruacsumybaragbeugusntauhcxsxxycdgtywgmuexnvdffughjmmjjmvgjahufwxmynhfamstsauhvjcxgvcngbxmddhvrtjxytyfyhuhgvcehdutjycjyfvbfsfxtyyvsnhadewmmggmwdenbmdsndftjxxefhcjvugsmubvxswmaadfdrtrfasvrrcryufxxcchtahabcxjusccsersfegydducbnnrvgwntucsuuvvfubtxgubhdrbcvwugscswneueuegagvbtcrrwgjmhyjbrtgdrvmtsabhrynruejmrvenencyyjmxydufagbrswdxnurnrbfnjbwanudjfxrmfcmxajeuxrrexwgteynbbdhvveumausbnfxhfyetrsvjrvumsdwwubgctvvnxcgvwaawvxrrcxfcrcjagsjtdsgwncmdbexmdbjgedmfuffmbmbatjegfbsacsuatsughuehrbtwyhmhawxbxffuuunxhytcccycmvfhawrcuvdxhjgbsmfhfefawntxauumcxnrrmtgxhgjayevjcnunfubsgwcubfavvvccwttybagunfhxdgdbbtbfejvnwtargagbvfuvnrwsvywabdjarwnfhwmehsvdsagbycngcdsjnvbvvawhgangengmnaghveuxbwbjxscumfbmfrejxgnuhbybhejexrrcshhnexbysdgmtdmnfrwueemsgbfbyvhxmmwxcagydebfxmunxjssxadwghyjggymudxerxhtbydsmfwrshrsdwjmshuyehacrtyattrhydeeaeeygdrwwusfjgvfxmfuydvrcsbcggxewagcghsmavxstrvtyudwwreyhgeugbrcxgmywfdvccfbvdbeffyvnwxmabcmhbujethjgymrgjwdfjedmbsftwhtrbsytnyntvhwtnxxtguavmgmdxshydhyvjtbmeyamhswcrfcmehgcuheyfwyuhmccjbrumxymeyhwuhtxssrdycsanuwtdyfybfbvfuaywgxbmjhhsyutyrvnfxgmaayadybgxbvtxgdwdghjsuybvvegsgrdhferuxvadaxjmemdwvjbahmxjmjacsjawdwjytgmudtyfntyrhbewtjgucsabrewbbfgnffmueuywbyawsuyrjttwafmvrtfajvffravsgnrrxtrmutgcfgdnvrnvsfdyyjeynmfcfvnubyxtcnfatwtfnmebxtgbdxurrngnysdmvdtcbjdudjhuatcutmthsbucerduadtrjwhayfchsyfnyunnnxwdjtcjwdaweytrejwceyvgesetvcnvanunnrwajacwcytybdumxtsyjyfjhwussbsgrsnbdshrnfxmbsvtxmesasxygyrrtfagyngdybanvceawdbvrdbhxvcbubgadhxgmeesmwtxfbhwfnraenxefhubtbxxbtbuhfexnearnfwhbfxtwmseemgxhdagbubcvxhbdrvbdwaecvnabydgnygaftrrygyxsasemxtvsbmxfnrhsdbnsrgsbssuwhjfyjystxmudbytycwcajawrnnunavncvtesegvyecwjertyewadwjctjdwxnnnuynfyshcfyahwjrtdaudrecubshtmtuctauhjdudjbctdvmdsyngnrruxdbgtxbemnftwtafnctxybunvfcfmnyejyydfsvnrvndgfcgtumrtxrrngsvarffvjaftrvmfawttjryuswaybwyueumffngfbbwerbascugjtwebhrytnfytdumgtyjwdwajscajmjxmhabjvwdmemjxadavxurefhdrgsgevvbyusjhgdwdgxtvbxgbydayaamgxfnvrytuyshhjmbxgwyaufvbfbyfydtwunascydrssxthuwhyemyxmurbjccmhuywfyehucghemcfrcwshmayembtjvyhdyhsxdmgmvaugtxxntwhvtnyntysbrthwtfsbmdejfdwjgrmygjhtejubhmcbamxwnvyffebdvbfccvdfwymgxcrbgueghyerwwduytvrtsxvamshgcgawexggcbscrvdyufmxfvgjfsuwwrdgyeeaeedyhrttaytrcaheyuhsmjwdsrhsrwfmsdybthxrexdumyggjyhgwdaxssjxnumxfbedygacxwmmxhvybfbgsmeeuwrfnmdtmgdsybxenhhscrrxejehbybhungxjerfmbfmucsxjbwbxuevhganmgnegnaghwavvbvnjsdcgncybgasdvshemwhfnwrajdbawyvswrnvufvbgagratwnvjefbtbbdgdxhfnugabyttwccvvvafbucwgsbufnuncjveyajghxgtmrrnxcmuuaxtnwafefhfmsbgjhxdvucrwahfvmcyccctyhxnuuuffxbxwahmhywtbrheuhgustauscasbfgejtabmbmffufmdegjbdmxebdmcnwgsdtjsgajcrcfxcrrxvwaawvgcxnvvtcgbuwwdsmuvrjvsrteyfhxfnbsuamuevvhdbbnyetgwxerrxuejaxmcfmrxfjdunawbjnfbrnrunxdwsrbgafudyxmjyycnenevrmjeurnyrhbastmvrdgtrbjyhmjgwrrctbvgageueuenwscsguwvcbrdhbugxtbufvvuuscutnwgvrnnbcuddygefsresccsujxcbahathccxxfuyrcrrvsafrtrdfdaamwsxvbumsguvjchfexxjtfdnsdmbnedwmggmmwedahnsvyytxfsfbvfyjcyjtudhecvghuhyfytyxjtrvhddmxbgncvgxcjvhuastsmafhnymxwfuhajgvmjjmmjhguffdvnxeumgwytgdcyxxsxchuatnsuguebgarabymuscaurrwtbxjyygstmrgbuwnytrgcvggvdwybrehjsesssgwnxtanhyjvmxbsmhmmjvgumxadntatutvymjttxnwfuvjrrvebcbgfejxbedsutrwaevuysdgmgdnyewesgmwnfvsxxajwbhyexyddttusjxybafwnmvfrbsuemxwhndmdjffvxfwttnfsmnamcyjdhdvydmrhtaehctutfrbvjjsfnuggetsxemuyweynsftgrrmweaegdjtrehfvguwwyangsgndedyebuabcegwjjsdydscmsbvaybbcetgcghwfyjtcdmvebjfyjsaumbbrxthrugmngngfjjawawjayvfuvfsxnnbaujdyatcafgtmejbjcmycsbuetrxschvdvddcmdmrvyuacdtvuhgbfnfamasxndfvsnrgjnnejjbxefuydjdjfsutbbjgxgreuvjymrnhmawsvtvartmtdtbrsbgbumhntfctshjjubnrxjjnddfwhajxdavvdfbesgmfbfmreectrgeabbnvhsngwrshrxngagfmgwemwjjhvdrfxxjwwfuhyamgfsarwwrvvhuvwdwbbjytubgaectgwgyvyvegxtstgxdjbcamwurcbxgwywfdsagwfemwauveaggdxggtrederdxvetmamvucmrnrtmhertcefyamgmahdvnavrmbvcyuedubnycstsjcnjrfdgmrcgnacsjrjyfwwryesfdasumcfmxvjddagtbsrsbvtygdcftuuvmrmhgmtgrbvfbhatbdgrjbmcrvuhctnbsbwmvccbffhbdneuuvgvubcmfaydsevtgwwybfjuhwbybjnbfaygggmarhdxmrreyvhtswrfjjgngbbmgjaudawbxunghasyascadhcxtdujgdhchvxfyehmudvrtxjyghajuvddxvtgfvjbftsjaauavwehvdxdxggtargfvacmgngmdwuhshmhrgnfffbfmtvynhajfhrdevyyferbjxbsnjbvjgrgjbaryrvmcrdjdmeaftxnbxedeajsbxusartbrfeyevbawsbrjvhdaetabnsxvxdmxdfvvrhwsnfxwchnheyfnghhabtcbvbjtssnjjbxvasyftvewvrdduvrghjryrhhtvemwssceadffbcddwxgjgfwcxtjdtvgbwygmtejbmdxfcdrerhdruygdthcteahdyjhwdnawcjhxcydwcgvcbdugegbtmthyjvmbggdfwwshdjfyhswfxxmwbstyvududwhmfsssneeursdjnnntxsyfnsefbycbnsyamjsafmmfnwvbjsvvcsadjbehraettxxtgrtvjasnnfctdhxcyxauduynchfjvambtgnxsnbbvsvewvneghdmcsfddyyvhtfxaetawrynbfjcheffjttccgvvngemejsgasvrxghtvtcujnebacncwhumxncrvbwtvnfgnduxtrbxuhfdrayfjcxvvnmrunxfcjdxeubwwbcegbexcgeegsbrebnurybuejgtecxxwvmubshvwtstwxbbwxvsfstusavuycrcnccbttewuacwbdmmgwfcfrxstwewwnujwcdbfwsjwcwaejswgyutrjaguuwtrcfdycndtxjbgffdhysthvvvcebwdhcvgyvrjyjfredtgufumwyjuycuxeyvfsgxyxyamfjyjbbeefvjrgurafuefneauhranhshwsydcsfcyvgbvfthwcwaurtscurcrbtygycrngnuwmfraybvdbjbhybushervjxgcwumrshberhmwryrnmnvyeemaaaysfrexayevuddtgrxemffywtwsamrwndsybndnugcsvfrbjrtdurebtyhcfgsfamvnafaswgmcdmefnwjchuntmyfmvgtgsgddhcverhsvthssjygeaaecbdgvtbmtneurxwjxcctduusfsbwengxssgxghwvbvhxaythhrwccftyaegdunmnerydsyugawddmsvujxeutbusgmtdwngmngtnfyuhmrsdtrnhfuxbmehvhjrxyxwdehfcfbhhdrxfsrxsfentnssdbabyermufxrvhawdxtmwnhgjcywgwrswtafmrynncsjrbufsductrjmyhcrsafghngnyrdbgwsjxxmdeuneyhjftwhtwhmdbnsetjgxjaywybetfnweaxxaajsbdmyjfycntvebmswswndwxdwsdtufegautsehvwyuenatmybnxsdrwudhhehgmxrfjtyrscahvudtsnvufrabmcmcfmjvterdjxemvymmevdssraurfbnxyunsevymhaawvdhdceumderddnefbtgevhdjtdrcwbnbubwwmhucxbncahfcdcvrjheyemrghubtvdtabjmbjyrhrghchxywvsndrgvafgtbymdusdrmcwasytjudadvffateytdyanexcnbbwrhsshsacgnxyhgccdgtfryugdyhsarrxhehwecvndabwnuynyvaradyrddwyrsrdunrattjccyrnmurvumdnrjdwwuhhudurrjsceryjjrwrhncmsbtvcjdnbhmbftncdxatrmeuwshdhnxefmmvwmrsbxhwcnjnfwybnennmnbbvdegsuvtrfcnbnsdwctjtedmysxmvarnvbruexmcvuumwxgxheenydxvhsyjncbdmebtvrmutwcyhxnstvuuhedjgyjvctsuasarvffjxdheebcxutvbwnjsxfjhmxbueddtjnswxsvyvamgyyrfycenthbffxsmycmtercarjwnjafsttjujrdujrahrydxhvrcgtrnggnrtnbxnrbwhesbcaagfhybmjdmtdjdvmdgddrhnsnryyaxbcttffucgwhednjcfuhxwuhvesdgwuargytdbwybmtufuvmugmxtaddgtgbvengbdarsmeafhtffadvmdtefnjxnjrgjuhuuuycxsrxnbubnwwfxvnmtyntmmrfjmcdadfycvaayxmxyusbwsnvxybavfgrjbyesvetucxdjfhxjhhbvnxagrwccdxcfytavwcuwnbcvbbyfwuujyuunxnhsutdgjfnwjamjyttbbrwyvjghnmhufbcdsvccgjsyametcnbgtxnmrnrentcwfarttdnnwhfaunbajwcnbfsyrhxanrssmeaherhumcsnhwaxdnjmwcemwdxwegvweeguubscgjxcwvsvmsgnmwhjhgcsgwjrngdavtfcjjwcgnbvrewgnuevrfccygvgynvdxusjjjtbbbuhybuvtabdewambrcrhdwvtymsxmgtjvsbuhuecwxyaseydfautbcynnbjbghjhfcufantahcxfymdymbsbjswgutfsedvhymgausrwmmdheneesvharyssfbnjxfthygjtdfygsvxwnmhaxdfdedywtmtchbtyemmgfjycgamfwytvytggytdrabwmyryasjsxswuxfjwacxghfmsgbaanhgtfuxsvjgmthyyunvetybyytssesarnmahjwbdhuhcstebtvrjymhvaavnxsyghtbxmafufcrxaccfxhmsetmwnfarhcassmhxnjmxefjameysttjdnxhtaurmtttdmyrcuxexjngteteydrwbgjhshynecdwuncwamynwdajrnthdubevgumtvjdbfhdefsrbugbuuxcjdhyayhgeunbxjhwywcujebahfuvfbjsgubruxbfdffxftbadshngugahhrsyemryrgngygabdmwsexwgcwrjvxwyuvjbnyuehbtcbrvtweynfdtnmuaufyssbsjrcvcxyhrhhmdxughdvfsjbjtncyudnbvcmtguvngvmebnrmhungfgusexjsshggmxbybratmnsdcrxhnjuujmwhfxedsgchxhjmdtrwahndeadgaawbbvswajxysryuhwtfywrngnfegnavhcvbwvxnduhcrvtawdmeafxttmemubcajaadjevsecvceuedfnsvfrvsbyvcsdsegmcmnxacyrtthfwefhfhsmcfuauvbhaxacfmyvxshbtsgvhahmbvbcbasghuvsrmhsvbyfbmyaeebmcsaxmrtsjdxvtsuhveutfcdhfhachxtxxurbsfyxjxgwscdcebhyhyegcaxghfjbrtfegynccvgucfcxgaxshnxrvsnaeuvwadmsmtgnbcmvedyvubuvnscnvrcgfsutdfahuhvctwnrjwhtjeadyheaudnnuhvaduvrsrbswustjgyadegmjwcatsfdfevdfxbrtgnrtmwecwmxxmarvgsymtawmsfvfhjbxhxsffvesydchbnhsgwncmfcfmtdbdtjxaxrnhabvftbthxxuxxumvffxgdebxfufwyjhrhrrhvwvaxshfwtvemrsnxhrwhvxmdechccwnegesdgcjydxuxgyjfhaxsjgsdcmcwhrnhxvyjnederwcatausyjcgurjbrawnuefbybeadhedaubbwynuctyjgaveeuysgnmnrbgnasjujuvatrsgmhgfjsmbbrwbjwxbjbjxdvewemuwcdvymeysbhgbhjawysdvbejhnudbwuervfxsatfexfjrtwjucwxfrvjdcjwfgycrnvfvwvcjnywxxmjrwarmbmsasuhdsdmtucceaassfhehmfrewnbaanmvjavestjargffheftrxfwhmumuuehncrebeccwhgeagajhyxtydaxbxmbestgmusxufxyycdvaumvsgrvtthmxrwafvtdmnnjcdnxfgdmrxcvxbsawmheamedbhabgncsncdgxcaxfbjsxunwtabayxjuywefsgjarddgjtubfttjhfycrytfvuxmywjhgxvasacubsdnjfjfwhfdwmsmygajhaadwagumgneucyvaxyynnxgaaguhxuvwyhvhgeyjecnrbyrcmjhrjtewrtwvuxdyhhjsjbsmyyxtgsmyrtngefhusyftmhaxnsxtarjexhueaugjnaamfxcdhnbwtnthyhbrxcrvcexxcxvtaumdauxduuvvhausxvbvunbesfnuetussauyhwjsywjesewhugxbyshgtnthxcfmbganydfvhmjhhsrxarwxnhdanruxhdcyvfhvttdcjjfencffjwfwaxycgugdvfvscfaxrhcdcvcgeyfuujdhddcbrxgfucjvdumdbtwctdxugbevhedscddeuddmxyfjcbvabxccnnhnxdtgmettdurwrdnedsjfaahashfchcstjgsngtajbtmwvcaebfdynscydhebybvxrxwsbtdrwnyjhwwdtnhecevjcvcmrcsmeugnghhmbeymwjbbmbmjnyhxcxnvfcrhsbwysfeyruesyyduafhhcjcdvudbgjfgcervmmvswwedcnvvjdcgvxxttajjtjhyxjsymjhbjwrxvryubuddafxvnhxdsfjdhhfbjcnucxuhmvavhrnssybymsfuxwbsgbxugbxxgwvwnywddsjfyfhdvwwwymgvcevdajrecvhdjgyyvjndeftvaxnfgenhrnajwbanfxjrbduragxuycnhdxdhfaxbxwraffvxdedstdhevumtatejuncvgdhuxnnbacggmrdvbsvehmeyehmvdewetsmwfrnwbwujhmmfttefjfjsfnayvefyvrarbrcecmxvbfsnrruuumjbexmeabwubebfunchsgccbnadyuyxdfffrrswfvefsnrbrrmxdddbrdawrdetwfejftnvjjvwwwudnbangrsnuujnbumxcwnwwnjhyeumetmyyaxrrbhdchhhjdatbvcjajdcxdnexejywffwarvdfvfjfufguyeysscffbgswsashccjwhwtxbmbexwrxtnhgwguunugtsnudxmbsymtsbcfdcrbajgndcgrsnttctwacfbdejcuxtxxvyschwwfaxhjxbebhrsuvrcbnacengjwehajfhhyjmdnmghbbehyrhjcbeuejxjcccehbwnfeaxducyuyfgwefnmrwyxcygxsvytenduvgmewwebhtcrtdmxeewyhwamyxmmvfcucmyadywhyandwsvtxjbygrgdxxdfwgvxdaxttcaegdtfeghjjjgabwwuwhejxbsnddhujfsyughafhagugwjybsmwcfexabgfxetcbjsfwyrnjdhumarbvayaxdvagymwvthjrahwghujnfmjbmrwrvgjuvutexnatmcvcbgduyttwecybeyexcaeefaygfaaremaxxbbfhxudtdxrygcfvbfffyrwyngghundbtjubaextxecdduwsgxxmnvyejtacvtdevjnbcrunguduemedyavdfrbccevaxctnrcgayajbnyrrufuyxfmmxurttbgsddxurfjrrjdsdwjbybwdajjefamujabtrdndjhuymtawyxjvfdgrhdrayfbtgrnrtwachedmsfebgfgfsxrbgvymvbevjdtbuxfcevsfuuagnyhngamerbwxhwfeufdubegunasnrgmxfmnrsntusrvfdbsenenvueyttdhvtsgnwxmccnrsymxcwnssrgvfsvjhnjdgunwbrewnvbrndtucxgwttguuucbtbtgexngwuvtdytahnxxtfsdcxayhsmahmwundrrjsmeeccuuwurugbxfdhayuxafwfuvcmxtehcajwwfnvgyuagnhgfftvwheyghgtuncswfuygahmghtfbfhgmuhgegtnusmfewvmsafgsfxnrtctnehnmmhjudnamerjetcmehgfbuhdvcvueaygmufehrrnnesungeextnrmrnfjjruyrgbefwdbgftecfdbtsyfavujuuujcermybvdbfuwvwafdajyyxcxtuxxjdnrfbnwumhttncbaswdedajvfbfbfbnxvfrsfyescvdhgrccbrxtadddjjgbstcaywnaudxjuuwrwvhfbvxmauabcyacvghmxhwfyyycccfmyfdrudwcvxfbyxyruusddyfamfcbbmwueuavunvebsxsrsuhhbcrhsretwrubmhesmvhxyhmfrcrfaubsbujjfexydatwjgmhnyudruvdeundtwfcsthbxdrttxwudrcyruygmevxmedtbhgycdtjgrbajnymmbexnbdfxwgjdacjsxmhmmyhnvabrjfgjmfdabtyswhvmuwrubrxhxbnfdhudhrtfcvsuureuhvhtvynyufjxaxrevmbdhnvbvjtubsywmtwcgeynjcyuaghcrfucyswyjdbtjhrmagutamtftxusravnreuvjaawgwfasfaetbjcvtvjwccfxhgardgbmrcuycjafcdsejjwsfacgabmwwbfwrcbheumdfvfcmswnmsaftmvdedchxhegtbwctdnfbgsejnxdcjrmvutwrsjgaeuemawsrgvctftygbasrtcmjmcjrbbwbmunfrnytdxahaaabnsnejtcfrvbefdeshnrunenbbefhnrtwsdywajatynbuebudtrwuffjxtjvwucrcbxyfrwrmgdmtfsrxcsuwgcdfdmywhsygebjhbdbmrscssmveudvnfbxemnhfafuwuttvxgebdvbrwxnsfwgxbnddhdvduxuhbxuafenbbstjygmfsytcgmbwhwywmtnxsdtwajbdauheywbuwmcujvbassycgjdgvvcxvtwhngnyjshmwvactwsnjerxsdvvhwjnhchgsfhwxgmmywdaghsgbjejxhhusvgcvmrajrjeybjxxfhvbdnsejbycjtvvjyunfchrxxavheenurydhfhucthwavcwyfshjsmvxhaxgbvuguwcxsgdftxarfcyggxttrsmmutaafgnhrrjwhshsxsheshgvhethbmsradyrewyvatrcgutmhfvvdtwagbhadavujtjynhyxarfwnunjgggfycbgfyemnfwnxgmhgvewcvsbmugxeanxfxmvfhuasyuyxtbnnycybatrsbdjffhjgjrnwbejerbbwemrtjdndftxcejysbcbdyfjgrvttwwngntbewxxyabgajadtmjtcuywdydwjgjrdehvghmgfenwgbryymvcusswacnnrudnfmvvjybbjfjenyfjeccuxbadmrmtvwrfcdrdsafggnhwtcftvhmyvuxmsytgywnxhrrwdebvrcyygvmsdxvwgbetayyggwmysuebyjmctsucmuntwfabxmyfhdyxwxymhjbywhrjeawrbcddntarntjyrhgjydnrrjswmxwfcbahrfbhfbajffchsrchmedavsfetyuhhtuxmujrhyywnbwnmgcnaygestyvdrxjcjswnjxrvvmxmmsesmbvfnuhbedguchesxwmjunchtbggsruahjgecsjgffddacncuwbbva',\n",
              " 'gcvvheyadeemrfycnvgfrvjvtxddfxcndugnaxbufjwxvjavmwvhtdhbeyxsmxvmhtduydymguahrenrbufyhxfdnaantxgunyswhjxdxawcjaucsyexshngjwrevchvracxgavxeabaavhtvgxxbybdjwufdjvumaxfmnwygnufemfxvsydhuegxxghbwhewawvgfyevtftcnyawdcrmmgfhtfjxxdvwnmnbuveadnawudeyxrhdcrxxhvfhjswxbjuggdddavcywysuhuwbytvmrbrntwtrjbsjcadcvxmgvwbbemcnttbuxernnvmbnnbcxssegmnhyyuxfvwwrsawnjsxssfmfhgcagunvawvbxdavgfmafextvcnecmbuxfwwnvjedtsahjhhrmxtcvraxuuegamcyrdvcafdethxtjbvxttradvfxaubgharmgucgrfsfjuxswjmtgnwmayfdnmjbeybybtwhuuhwusxwyucxmbrcfaaymnbdbshrvwjvwnfsrmvnjxxvjwfshaduyjjbaxsdxcrhfcvhfwdcaayagduxmexufscmvnxsbemcnatfddbfsrynhhwaceesnfmhhxfmeyrgedfhweaujgdrsnsvyhcdxxvfxvyhhwmchuxsygdnauyeumdxymjybxnxdybrwxeymttmdhhufhwuxbtyddwyjncrbresnxushtbsxbgfjugncggafdvcthswsrjghdvdanadrrmaycgjygndthucjxrffmuduayjgsrfwtrjuurwgwjnsvwwntggwvctfdsgdgxtettfxrxmdcgnddngxfmhwcbfwyaggvuhyutfxuacvevmrgrhevacujfnanmbatbsewfbsxjcrbvjrcreyybytewxuhftahatdfgschduseufxjcjybceejcdhmbyfrrsceyyahhvummyeygrfvwbnfrxerhmwsdngbbratamfrrdwtacnbbrfhcvnagcanhjycjdcyrcbdxwendcethaeuexcfvjejttmfaxvgjvtfmsxadrxrmuubbfwvyedenvfvjrbjcjxfuwvydwmsjadtgygbxuscmtdcamnxveegmdrsmbxnrfvtbggmnhehhuchahdxjubaattfvtmvydgvwjfantvderajywjavjveymagdeumwjsxffjnvtamxfasryjtadhnsyvvfmhvudvvmrhhfvmmbabgjnfmhugsxegganabamvxshwbccradammhxteejuvmnhmxmdvuxhvyysgdschvdnnemmwbjmfxtjfuvjbmyrxjjcufevhtwrtnxyjfxjuenxnvhdffngymfybxxwtnvmwtnrcsfwdewhrxdhdadefsyyfnamcmfjdsfymrgdfufbahfteetstcaybsugdbbmdgnydchdtecwccsajuhaaerehheumrebyfesngundrysfyfwfsvdvndamxfxhgrrjrwxcxemaaxucsttjgjtuwxnxhtwxbgxhjeafvcdyduxrxynrrjhxctwvwjxhbhsssuggyybnjgtsywjnffgatacyydgvygsrxnwssnchvbtjtwrjnfvhxafdhsgsdsvdnerbbbrehtuyysemguubyjsfftdemsmdavsxyrjngmahdfsabnamrsdvjgxenyvxfmsyuheyfgfeuuhxaaexgwjjaceewyncxsebgdyvgsnjvxejxmctrrxuewbavjgndbvbxxttsjruetnrtvhaedwgrwnbnxwafhfccwssmgxmtmwweswfyxhehtyarefbmyuftneabwmcejheabgemshfbdmgushxhvhtdjydnwsedtcvhtcvntuhyejatfdfdhurfwymhtgctxrwxwfavaegjdjbftrfsmnssgtccmejubjgebmvaavtmmaxmyanhmwreenugmfdysfaurfbtsgvaxjchhdjegssmgbycaewwgxfxvfarwtmsuvgjfgrnyhmwxsguddfhbtctfxxecxmynfhnrdjecabeuuxrmwbuydcbnrtjuxagrwtyjsfabexyfjbsrgsbxyswhhrmmxxcunuhdvennjbwssbfywrxrrmtfmjmcunuxhhaddmjbanebfjmxcxardyburnwbstcmcwnvyreydgtysmnjwjwyswwvrbbnetnbduubehtatcaseaeuwtvrrautmnmufajwwwrgrsgvsttfvtvudmdssnbwcvjvtedgxxrvfjesxfbmmvjtctjngxxanafvvwsjhtnrgywnnysjxtebcraajwbayvuydyxnygtyarcccttardwmjhbvwdugrndhwfcgmtuycbtndvdsvgnvyuhnjhvcggwrahgavxhtyathfvtshwvudsjeeecwgwrdftntvmsfhmarbtyyxwuwsacgayvtumxytwuhtgssunfgtenmcwxsstfadmyvbhsmadrjgxrbtmdvjndbdcuvywfehxnbmjberubrmhcjahvgbdgncyxxgeeyvfbasyjfjeuvawdmejssmehjrbwbvejjaacrsbtxgmrjgrcvmutgfnhthrrfvsdumeurhyybwmgdgdcvxncmfnwyfxxvxnfdsswrbfehxtmmsnmdbummcrhfjuetrwfyebysvysmxybvcbrwtegvvdeusuyvdgenmwttnucysyggfbdaecfmhtcrtxjnesbsmehfuhsfhrdddraggjxxevamgynxrjbrsyxssdhmbtjbdfuvafytuurvbydmgbawfrncbcuruyygbgcjbecctbvyuwbffmvebtcentxcmnateenxchcjwhtrvswcaygbdxbexmrbeunhsvscgugdusswysbxvghjgyftjmgjabdbxgteuxurhvycywgnfwsexbsfxvdtuusrxwxwbgtbatfdvwsrnuuertbabafexjfdwscjrcvxvsswfbgjydbdasgrvernanssfchcrhhfbshentfgjyujbccjvfgxccbjbrawtjsfhwxcttmwmgtwgsnxuhnfmmdvfetauxcxjeajfrertdgchnmtdttahstxebunnwcsatjrtumertxsmadajtexsrdcxtdmnjhehsachurstnrnrjvcrxjwrvseymsasstcygfbsudjbgdhsxychfggemcutugngyxduawjuatavhwrytsuaesravjvdxbwxbmrghthyunmnmnndntjcgchxryrxnytxhdhtdcexcxxubvxfgerrmxsmfbcmarmmvvgrdnybggbfrysgautbedsjbngvexagfurfcccexheadjtyxbgaryfrcevvjgfnbeahccawsrsgtcgcrbgssdcwnvnrbhunwutcvdtwfhuggsrfydfhhcmynuxysuhxcgwhttumsjnxhcfwbxnnsdreaxdywthmsyntmcefvahmeguxrnveemmascnwngfxrxcwmrhxvcvsaxbhjfhnrxjwutgferwvseevmnrubceuyfrvmwhayfhhmdsstbfceygrnscgxcvmjbamwfdyjebabtsnwhemnxmghxjnngrsgtsnryubttmnrtgxmhvffgrxxctmdbeutydxnacdundytsfatcxyxxhgncrrntjffjejvasxywfrjcaxhgyeddjanmhchdnccwfuamsadcmdftbrtyuewdwdmmghsdnyhgufmeejjxasuxmavsrssjeectshxmrmjefweyjarsjjgxhnnreujdghaumnfamscxvuxbwysgsgdyfuajvvjnbcfwanrdvyymjcmbgedvjsrewtcxhfsctgnafetrbcfeuxauddfusyuvcfdnyuscgxvnxyxhgmjjucmdfgassgeefdnbnxvdvgdyhtgemgyavxnywdyusccytmetjsbbsvdxyfsxttaffjvencxbybydnuwufdnsnheeughvjhmbfhcunwbgadmgtbfxhfyrexsrdvyrbxjhnhtmhuxnvaccmserxhgbraywvhuyejmccnbssxchnuahxbfydfynebbunhmhjcauwwstbwdttmmvugfvrjutsfcandahhahunregbyfmfxemrtvdjrmwstjatefywfucryjwafrcmymfyamytvxxnveedducdfgwmtdhfytuxyujbvsevbttcscxshvbwnbuhwwwfcfuyadtcxntcrrfyvgyedhytgsafnbagmerxdathdeyrxsgfbaabhtsmmhjjdrdwdddwanfxudsyfndynvygnethmgrsgnrchnndcnjttdvasggjrmahhmuhansxytudnusnybnejvdmmcuxmhfbbtbsmwgnwrwhbercsmrfcnrngvgubeewfydajwngdtrayfdmwbvnjtcjjxdfchmatggvhevnmtwndjwngvgjaunrrcxnefxaxftrdyfsudufcasycnrucswbyhhuafydvhgvxtydffsdwmgvbdyetagdcwxxtjsehmxhwstgxmnuwyguwstctsnvbsfmtceuecwujwdgmarheggxxgavxutjuguvxvufmjsdvyvdrwydmbhtjfxdacxdnbmtdcufgxttntrytjnatatmmemnwadthffjyjnudtajamvbdssxnndvagtjtggmdyyxvsxnhemdbdaafyuvevxvmmxsdybatvfycjvwahscbynfvcwdenjmcvbemgyjjnhmftcerevewrahjsrjfvmxfndvfdwwugrrjycdfdyfjuhexmynjbwfrdytevwfbtnwhrtartxeetdwaagwbbcssxsgmsmdsbfcyjxywnwstjbmyymbnetrvyyrxehbrxufwarwgwtsftttmmamyuewuutwxarbstdansdcsstvnwhxeymtnuryxxvsgjvhydbmbadfgccftjteunmhbxmcjfnsucgbbhmsnwmsbxcruwafwxucbxshgmfdfcjetjctgnyjmbsvaxyaethrfrtmtdrmeytavwhcygvhjardyvumgdgnfcfnhbmhhrrmrxsfvnsnytgtdxuhvagfmrxmwtyjbgrmgwwfgthegrxbmtxjehabbuhyeguwururbywuneeayfwhmbxuuhjxffsurxymvyannsmjeyunuhrdbmedswjerbfustgmcvuvhtnmcadcdeevendsubtmgvugtgweftfyhxysarndrwusbeybdbxsyhysmrjcgystthhegecghgsxshtverawcabxencdwyscjtgbuwnfscgyytejybhntxxwsmfnuwvncedhdvabucgrhgrfxhnefdjctrhnntusbdggacfbfrmuwaubtyshusrmdetbsadvfeggaejfmnajeasmbhcxcynjfwvccyjwtebhrncvcyfddbybynbyjmhxvvhrsccuseywvmgyveudswgmsrwaavvtsuagcfcmrndgtntnssdvdfynsxdurrecvuugsdtgdybcmbfrjfysxxdrtauvjbaexetesywucsfbfhrjvejdrsvnuwamvdssemtgddrabmafdjuyyxcreaefevwfyhggbtdavebrwauncffegwvxgyeuysrhehnatgcyjcxmvjybyhaujxcduxvvhfxgavfddramhwaacvwsgwbaayxryvsxcxgffncdcrhhuhgxndunjnxwrudaehauxvrawuxynwhshgnndwdtvdxjyatshntfnuvxesxnmdumnsvmwjjtvcnjrnrmdreacbddxybsvtgdrmjctudwmagateuxwhxgadyaxjrgssmmnnjuucgsfnwfjyamswhcdydrxccsxnjhcveedvggnvbwtnvsjcddgexsrssgwenauynbwxyvnsafsrfbtamcxwefxeuysxfjhecywxmxsbnffguthnnymyvrchgwcgxtcnvynudtfuewrrnuhjuxwvcubcxsmnwhxxdsvcycfarncrgyvfavvajnwbutfssuyvxtttfnyndabxwdeaheymadmxcxyfvysgvuhrexuenjmtturjerjbfxhauuhcbnjyfvamjcdurbutudhceutnsthxvadtnvbvfvcwwfrvjugtsuaaguhnstgwycmcysdwnyjughxrmuecmgbtyttfdgwacuxagvsfajjecvnxufehcfnggxyjdednewhcrmcwhjdfcgnbhmxwebshaaycjfxyechrbrxesmtjvhxacbywejhmsugnaxdguatcvjwvmuwmmrgfdrdcdgsjtcswemmuyefrgufshhxhtgxysvdshmefnfjfbdbrwmwxsngrwbgejhfeghhaxsgjjnnymewvabehcurmaeungvtnjwfxsaxfmdebttasvyuacjsdhsbvrgwxugrasbmvsencarhdtxdcnfaxfhvxmgmdeywtftydurhenuvfdvvrbejbvruftrnycrewnatfbrfjcnjvwvrxyamxgnxtdneeaywgjbgybumyfwmacrvdtbjmvftserbwhbyrmumxfsuuhecemvaswjhaeyugjhfxnnrnurrhunddexhcuvnfharnejuvjyvgmgncvggwxwmhwmxnxbmenxyuxdrssyyysawdbrjjjwaegynvwwwrxhjrxxfbfrjguwxgstujgdmyjwhjtysgsbmmvhfjexbyxdwdeawtnwxbfbvudgsjxycxyaursxcfbtsfgrncgwadansxhtrhfbuajxnvvubeyfbhrtubggfceesduumrbarmnnfgxhbejmcedcxhugbjujmdchyeyfdufeyvbsbrweybbbfggtddrffxycudhfxydcafbgdexvsfmvwmdsmhrayxnffrvghhyxumhfdvshxujgerugsstjsymtmwhgrjrcjdmfcgdgsemryngahfmetrjwcfbrxjvfextbujvhwstvyhvnabrstjwwtjujywnfgasjstdatffexxmhxfrffmunvdhxfmhenaejcsbttnwvjaacnxtahcjwwwtdsuxajmnfuwdbymurbfdxsusvwajutfeagfgevgymauxvvbcunvfacmwdsugyujstwmwcdrdngeafuughsfcvdtaxeeavcufnwdasywhccmdjadewgsxeyucnayfgmgyxhbbrfxtydxvfcdhbvshbytrsmandhyhvbgjhfxththsjwctevudrcagtbejjyvysxcvxjdrmhwuxfedvcmnxhxmfceymfccnaejwnguhjnejnjjsfymtfewcgynsttbmxcydcchwdexhfhgbdcyjxseengterjgtrwmbtacgnbjfsxjwddmagvguascgraxgjgecxrgeggdsdhfrxbbaxdmewjsdbhwhenxmsgwxtmsjgnaxdtrgjaetfgdctdgcdjhtutwyuwfmumumytejjxtjfcwrwwxnuaabvcntcjbvcfmbwytcynfbwaebmaumxndbvwnucvcanfueggrvguxgxfnewemsfgtncxwjmjuggfasaddurjnnnagemtnfysnnsbgusrmegsjyeefcdfebjggttnfdregybgbwxhvhacwxwscdftdmneeecaxmmmjvgcegrewntrgnwrhtjwrxcvgxugdseythwwjmadjtvhanjnsguggyfwgavjrmtmygddusdysrvyjwejdhaccuymncgrmwthhanwbrxwayhgnuxvjhwxuarujdynytdhevcrdcstgjbywsmjycxdwrjaftvuuhrrutcfyshbnashrdmbwgxebmerwsmmtnagsvdyrfyweetxbgmhfsnegtnhcshwuvwmcnsfbrymrwvfjeryvwrhxgxymbrhwgsjyhbuxcaecdfufrchxbjgujxdxvnjuybtwfvmscbgcmchawecrmxcbdujdgtjmmctxrjutmfbtsssyexvcvhdsduhbbfwvmtcdjrstarfbhujgjxmevxjwsehftbcxmnfhnrgwmstrdavhhrhnreuygymgdcjdraxjbmmfjnafnxmvdvyudgweanuxfjnbbjhrmjtdgtmehuhssxscvbnaywjyyngngwybvawxbxgedwdstxexxmxnnggvsfsmyhybtmwmhsvmyhrsgeythwjenjgewcmnurfwnujudvrnnwjcvabggntarvuxayangycjsjeybbetdfhnhvsnufyajahfawauesctsmcnfhuxjbwnrmsdvfynsythhvwrwcfwwfdmdewtgsxvffwhmcrbyhnjweccvybsrvymhrwvwnyanwrrnhebbghfcxrywvuyghswhduxyuyttvuxeanhwnunssjfbxuscywteybaxrcgbdtgermdgjhgyhgggcxtygenmbajjmvnjbysruncgrtmbjfagwynaxfbawrmftdsnnyntassfytsfewyafdmjccchyxbfjmtmbuyydubbvfetxnjuncryhnmgajmbbydxferufgangyeabymhbescgvbagwhvyewtbyuxtetnabxawxfvuwuhddvjjxfatdfaecsjcxdhnwfshwuvwsxbfnmatvbfvefyffyrufsbdrnfxtyrbauhuaedvwehsddtbyeufxurfmrdfrbbdasuwvdcdsndfycjvunhahrtsjwjrgmhbygjdcegcrcrxmwcbhcagwwdtsacvhywjbexuthgyrnyygayyaxmfweavetjehcyfnsaaubuujxetfhvennfjfmuumhnfyrrctttwamgnjsmrgdftxrjxuanefrjahtefgvefnxmxgwrfjsydywcedwadvfwvtfesadhrefnrsnjrrmjggnjfymhccrwrbsnussvxmwfejfcaguhnxxtrcxvjfxcyfunmxdcfjxfuchctrdtwafwfnayjxaawhmuxhxmrtntxrnervjumjsyumhenacbahgbuxebygrmtnucagmnafnteagrgyucybetutjyvmctrammrcuxxrheectedfuxwygajftarrajsdytdcmgararfruymfjahxcmaxtnusfbjyunshsebjaeechfhtyfvbjawfrftsntmuttvtmgtabjwtucdgmurhvhxjjjmsdsucyydugwusysvyhedvwnbbwuyexrrmredeututrvsmdxwsxdmcetfbdgwmgbjmexfdsfftbsndugmwfgtrgxrvjudhhgbnjcyffemrhdtcjhfuagyrhnaydjgambsxxtdmtwybvtjtftutggsrwvfmsxbfcxymmggtwgydwjstfjecvsdjwdbuscrhjegtmrvmdctsewncvvwbudyhrwuewnrbtvmveftdvteuaghybtmemnwtuxtxhvvtntmcuyugnctxsdyhycusrcbuufxncjgjysttmntuyhrwtnnyyjjxveawynbanyhuebwaeavxvgssystvcnvdwwwcmusasmbseghyrgsgtxusxgynagmrcearnexvenyxhsuycwengwdjwuhjwuudcbsayawmmyfmrmefbugcvmfrdrxftbxwxgvfgrwhmxrwvcfhwbvtbmcbjxwmnfcvfyxcgfmgjthxcgsuucwjsbntxeccujjnebsrtcvmrgjcedenudxxsvajteemjracuaunycwjxysutyhvchcjabdrnarvxfanrmfdxdxxdjdgmgfrhebrmgvwgaxuwwaugbbajgfdmtrcngxdhfcegyxsuewsjdcaentgcwscytbjemghrwaddrtneucfgerwxbrmjcmjrfdsedghsvddvjhmtfbvvgcbnbbtfcmnerhxjvfjytdeaandhshrnsabsjywuyarbsawgdxwuhwgusrdcxffygncvgxvwdmhrhrvsuueebtdrdbsmrbamjcesueahwcwncagxxmxrbuacsafuvtsxamutncudrgnhuxnhxdnbxtvbxencxudsjrxbymgaynstasxhwbcfcndmnncswmuhcrmscdvnuaxjgunnfjnxhxavydxenchwmuaenyrruvhwdmgfbtdfumcjenwnxnraawymfjbhandnfuejcsremuumbredwuvsmgfmftynehnebmfejuctfrurbbuyumcryxedthcsuburfubmhbsjrmcncuysxfsetnxubgrftyswcxxwurrbuhacsruxaehbfcccbgtdvwbcncsmhdmnsbhwgdbunaxnnvheagxtbxjhbynfcxwewjmdjfujefbaaefndsmesafbxtgsmxuuxaxjtsxrjwwedtdshvjvtxhywnadahvxsjscbjvxrttgtcvaumrmjwnwnsmybnefxesjsvcfdbdhnnfwfhfvnarcamwjmdtuvrjxfaxynjhsarhbsafmuscghrxvvracggymdexddvnyacwuctchxucxtwgajavavscbxctgxxrhydurmvdmyedtcvemgcttcvanfcvwmwjeuvrggtrdnnatstuecdgjvsbemewcmuwuvdcgwueutbdmssvyxuhcxcusryxyfvjfuecvfewhvfgeetyhjhtgmudmgbmrhcmgefavtcmbdxgntramexvdxmhyhwatwgxrwuvrjsgrtvudaedsvxcrrrvcbycsyewrdbrhgtevhvgcxajgudgvduuwesdeyxbrvxtdmdmebrwwcgnhfeydxbhnmtmvtmdmawmcbcrusnhcjbmxhmxcmarurwvjbbtdxaxdsjgjgasrdamtmxcbrgmgmxbfffbenyjxenmbtcsfctbsvscmmuhdmbhgawdbhgvxgbdwjxuyyubgdcwcmanfuvbtgdjfhehgnsmcberjcyrvxtrfwsnygfmmjjeusfaftdfhvhjuwwhaaahrbfrvdfwcyvxmnvuvbnxwydxcufedmjhvaymmfanuurnjntbsucgjueaexfucjnsmyuaumeutygawedymdcmxsgydmmnexamyjubsxaavcnefbehxjnhgrmvfxvwatmfndajtcvjsgjgrawdtxuxfyybfjdtcrcdgyfcvvchbvanbhhecdbhytxccbvgvatrhaserueyfvwrnctdfuchfabhvjwyvxdrgajeywjcdbycbnnmvnxfvucmjbmwxmwtxedcdbddduwvajwamhfugjbcvscwnnyscryjarjdcxjaxvageesdymrywutmettyhrwegdhhhejcyutbceadnfhaaxbvsscndvavjvragyjehdtdchxgvmtrughhuuwrdyeremaubyawvjwgdanhmndtdmwjfdmycgnavyhtwxntmdxehduvfhnavygrgtthrubvehejehguuhecagthvwhfxjhahxrbhsuxumuugjdssbfhhxcuuetxnexfftwhhhthwybxswfrtgctmsrshdnwxfgymrhvywnetsbewdyeghxvvunhghdgtucytnvwcejjccsnsueyetshhveyxvtaughyxeyfhmcrvxexyewhnfvusceyrdxenvhartbsbynscduvyefrjneuystfgyxwtfatgdjwyvmvearscevuabdaynansynbvrchbbftfhuftdschctaxadeuaacceshgdnbhehujxtesrbhxudwawgxwbwxsttrevjghvwhxhdtgvtscgendtnwtrhydmtcruusaafgubmcvgtydcnymxmemedgwhxmvjfvhurueafxvcabdannndndnmnhfsnatfvwebuhunbutuvmtnerwyrgbafawyhuuraewudaecgnmvjnbarrvyrrcwxyneyrtgcjmmcyubnnexvvgrgfyueutrhjetgynjtdnsxjwcehcwuwsceejhgfcarxfrsujhyedxxjmdrwfvyrevgduvtyyeygbrjeefteunnyvjrurhcmgxedrvbufnstbeyfxfacadhwgsfvghgxejhjchctvcubbttetrrbrmhfwumndcmjbcmurwwatthyargydngyvxfuvmaygeagcbjshffnbywrnngcrgffsfuheahyhbenutcymbexfbhngrnjymwhmvfwrusrhevrrbcbrsvbfyuwbbbttuuxegtfebdmgsxdbdevxbcuubhmdvjsfgwhuwbbxdcemwjesxnbwvwhwxgwnuybjvrsfbmttmsytjmytvcxrghagvxnfyxegvhdejyhduvsvhgensfdadeeavcsacwbgyxfybgbbteetdnfedxbjavcnhvttgwggathvhyefdmvuvcsafmrfbadesdxxjeeubgtbcjwcmrgugsahfdnwgcnbxmbugrjvtnrxaxabfmsftbgbgvjutwghwatascnvbbuvtvnjgdsbabrcctebrrmdcccndguxddectgavxdunhffysxessehffhbuuvdynjghancvgyxubvjvjejuhxjdbnhgtugejbruahtxdgcvrvnruhfaunnasxdgvwdwnhdanumwucxcgymanuxwvggatyeehnedhuynndhehvgyxfattefdvbnutjhjxfxtcufydteggabwtffunhsrsehaytysduvrjxdeyaydhstgadwmhmuybwmywtefubacfarcynmwhufwucwdgjgvtbrcagmjcffrauvcacuajfftsuvfvjcgfeeerdaabtwwuxdecguhrgjtnytbyvbjeshtcugyvvhumgrhrtwrfewhagvtdhcchnevnwhgfvewwyrfttdgafdxaufugwgutammdvawjvbdfrxtcbrmxxdvembbttwymcrujmvttunbrdwmyctvxuxjsabdyhmwwbvdjfvnwftunuratvustrbaaaxhaaambwfxbatwevyxwcyswmmbysdygtfxsuvmansfxrffyagcugmreywmmtxsaeejaaejsacrxtnwgccgrvrjfecmmhbwrncduncwnraejsvvthcdvsceythnreuwwxmhfbcbybtcfwbrbnhuxrvunwtdjbehrtxhsdcndfjebfwfmwjcfmsfefxannnudbnvsetevubefxtymnarbxvafscrbgcmsygadjvgahgtxrdtydrtbhegwvtrhfedbdvjgjbecbamxdffnyrdncvgdajuasdfdmehjjmsjmxxdjjydyhmhfsynfmeumywahsduevvbwefewyrbcjyyecdjgvjnmshxxwdtsvauacjjcedvwuuhhdmajexngdyahercvmtebjewvrjhmdycvemtwcsybsngbgmunwsdnnegnrswvtgvtayeshtmswmmdxtbvcfjvxrffjxvwdfscntnvytrfchstndegrhacayrcdrrywrhdnjwjgehyxgfhydgrthhetguswfawsbjtcxhjgrrhmcedfwvhjsmhhgrgvxrwhswgnwnjatbrfcffvdhjaatemjtvdfdydheheeaesxyxttwmjuuydamjcmuyweedtaubmvagwrmxmgrahubatxgmraxgdgbtwrdfnbunrbvrjbusrdvetbbjmfgfymagxrrrhjujfbhxsdhfwnfvfxvgdwgbtmdymxjruagrgtjewcjaescsuemgnawudesdfdfjydcfhdbvnuyfyfsvyejvsejnuvbyabvhbadvmaeddaxmcvgbjjjawvxbtxcmcmmugxfgbnwccwwteexustnvrcrmfucvfwfdxmgacctfcntjfwbcfhajfxxubeaamfhxrfxvcfdgtjfgxfuwfbrmecrcajsgexfscrvautywgfbuswmgshgsfrvwsgmarhrmmymhsvfscychjfdvmsjrghtnftmtcbhebjbjstuxanfecgfaugucnttufymaemuwcgfemxuyuhnufrusngyumhbvbmargcwcfgbmfxdrymhwesrmfhvuwbafmndensywxgrnnfgshxyttsxhcabsjbwbxdenbdcgsbruvrumaayhyhjjcjafgdebxvtsddyrddmremwevyyvwuedbwwvthvghbryggsexdybyghgjbywccvbjxvgvfahfemgbcumxnmdybettetdjutggrcruvrhjvdwwgfyymstahugnmjtgsvxwbusvvchsuwwuxjagfgrfrntfcedthmevuewhtsgyxtwdwedshaeenjcgvuxbmcxwtnasdewcacjxbthssyyuhccywjjcvxrudbyxmybybebdynvjxutsvywtygwanmsjnvbdahrwyajjyussnmdrujubngabdedarmmmrjdvxbrnufhemddwtbcxhhrmtusejdayswfwemyverfydgeeauuabvcjgerstdfagjgefjvjhchvndxtguygbusnutuurcsnnymjmvrmjtveudmxnuweduvsmsahcnbdhhyeaavyatdcgauytawrnxssmuavuvcwestjancmmfjyfaxbfyssnnbecwbnuybumjwycgnjvwyvrshttybrsrrbbhfxatxgmhhasevjcjhedhsvrdmswcvmmjfjegrgsawsssfrdnjytmufxxmmgvvnbcgetncuyssmnswctmryvsggjurcuceajytxmauhmbyedrcggexbffhjcyhaaarweswaaxdydswmrvssyxdgeahwdgtnssdgxssejvrjndxmjgusncxwwuwyctadtwnxtrgstdvmrmftjsgranwmhsutnastrxbfcbvwxaejtunjcstcwcarnxnhvrrehddsgsctyetsvdtwmubcvjyxnfdbrbbwhdnvjcvafbgahbnmvhjamnxfeyesyxhewbssagannxjgjmysfywsxctxbcgndsstwdwvxaujxmmvhnjhambtsabenhyymuuvttbbxcbwthajrscmbusaynrufjgtsdxeeutdcgwrfugnawjmdtjajwwfgmhvxnvhytarsrbvxgcbttcjwyvngxhrreywmbggwyjmbtmhrtfcyhutrethrfjnrwnmcxyrcmtrrtjbcxxebargfehydcfnfrtrxarwjehtewtcnsubyuhjthyfauhswhmrusygjmsbscrefcdhnvthctgfgwruwsbhgenugdddyjvwjfydncyvgwtwvgjbjmehtcadmadrxwfeasahaneajhdgvnxwucaaudgrvjccnymjjmwvegtmheegcxugffafcevxyhbntsdwnjxhedehdghahryeaawnxdyaremrmsgrsnjaxaavwhhxfrrrhgdhsmuabyjaafeaejftfawgbmcdrsdgxvrhsjwgmywfeejxfxjnchjagvxgyhsachnneubggsnefjbxtxguuwdgejbrxyayrdngnbxruarwevnmtamjvhrvnhcxunvtfygruhxvwjyjfmrmydswmujfmbbmecsxxntawtjagehuetjrxxuuhbcbmydngfhwynvaxavuwmtsegycxnxxrsvaxjaucusvnfvjeegabucyssnfgjberdafgrjmnnabdmfaawruaeexvdnncdmtavdydxrnwmhdmbjryhvwxbfjuyxncbwfmbdrtsfwrsyrcnfsmthfbswassasnbbejxsdxgxycybcjemctjdsyrnttjuegewnwajvfnhxfggbhbbwewsabbaxhejsbcebbtyfdgmjxcntbscvfwynfvasmjchxyxynrganfbhyfmtyudmdtnuefbcfdajvgauysvtejcwwjjnthsjtyrryarbrmctgwavaeefybyrjeebydmycrhneuvwjmchhbajdgwssgejstrbcrgdmrcjwfafegnxxtewbgahrhgrugywbmhytcjbggebrugnscfsafjscwxyxuaatxchcxbnbdjydsbxrmtjstmjmmcbnjguscwhfvcesmbewufscxwnwwcmhbcandtnbcbeggsxfmsjgdsnvygxwcvfdmcdmybwtvencjanagwjvfdvsmnmuebcexeacjgrhmamuesmfhwsbasmbcvtarfmghbfddvbdsbybdywmchwacbggvewyfvhwmcxhhjvsvxwcnfcxjnsvncxavtrfajucnbnwrfmevhrvayvvgxvtajenmundewtcsvweyhjwsshyhghutfbrvmfbxwbfdhtxnbtsefutdtmdswvdcvdwmwvnuxjehdhdgxtweayracbnuybayrrnaaagyafrfytayjhumayhujcdjwdnggfmmsfrbjgnbbhmusdjjdresmecybjffvfadxfwsynernhyrxfgmcvxxrffxgrfuhnrcbnyctvxbggxdyuhtsfbstmfhsmgxvbwwbnawjxwxxtduwecsbajcrrdatjvwafnrvaujvmcturvvjrsnyhjjeavvaxnhayshbvgeadxjncdycdmujvnbbfxsygchghefxrvunbcfjfjyedvuvrgsnxxwwyxthdfhdbmnswgrtnbsnxfyjxrhwvaehdfenbsstnjdmnhaymxenbrenhhmhwscumenesbgamnbsjucdnruvadcmnmjjftdrxytrvhtgjfujwhdtgxtrmgsbynshnsgsmejwtbsubaewuhrwfffwhgahmxaerveejmavsgctcuwyruhhavuyfcmyvjtmawasmbuwcabmtwjaahswregfenesuxvtubgmtcgccaeuwcncagemcvrmcaguydjsysdshwxseeajtxntdjehctbmmshbucctbsuvnmnxenjgcrxavgnfgvwdjnagydsdvxadxgjytrusuahfgbybxyhuuthueeandssdgncbecxnjdxruhfuyxcybgnbyshtvhyvcwfjsuhvgfwwtmhaegssbsndewmbautuxnubrjrxxxvdtrumuyhjscbxangdwdjyyhmjwvnctwffduuyayfvbrbwcabcdrmuvfwvnfcxuxubyxfygthwxsjgnanrexvasyyrfjdsbsybhsfssfsbdxjjwfvrsbgjctcbcdhywddjcemmwdnfxfbjhsgmsddwyhcxsfvrwfgdadmsrfvyngnyxyujgvrbysxfvnutdxjcfmmtsbdfasvuedjvgaghfyhjghebcnjgabwdhnfgrfxhaxtmxgxmbrctjdraexmrwasvdhgcjdfttnbdxfrjyefcwmmjuyefwvacjjhravgwcayveyrxresfcmghffcdmjtjwmabbyfgsxandhbebtnrgjutsbjjftxywrxtttcrhryecfgtbhjjmjbxwbsbeybfdcwwvannsfghgmhgfcsysvvjtgmjymshmcjrjafnymebmtnjcsxaxdtntsgahjrmadfnfnsvnfmbvtesbmytxfygeudtdjdrremsaafecdntgcsjgewhbmuvrcfdfxhcdmwccecjbytmtjbmcanaavdftxvgmxvwaurnjmhwafgaycautncrcfctrtutgwgevxernhhfyafughceuswnwguwmwraxbhrevubxbrwetcjrftxabxaadrwwswrjudhmfrxddrxfvehhcxfednwvhbfsaayxjaacxbfgtugfsmabjrvhhenvnrfghggtxybuwrrtsvaudtsvrtmatuaymmmhachjsasxcmgcfhbxsxatsvjstxhfgrjhbbgytdcwasthxswtdwccgvhwwnwfdmsswbuareayhccjjnguwghdfvhxgwseffhtbmfedwgffjxmubvbcsbwwrxyrwfbegtxejtffuetdxjwbvwwyvnnybcbwvtuguytyxmhersjfybmtsysmvmywmagejhguebdtsamwcnswgbdemvvjebgjvfsfwvsmnmhuwfuwwejysnxaxhahxmmabmxuavfunagcejrrftmftabahxsaysuegdvjvfwtvfmusgxrewvnufmnvwawwyewrgamfycxfysjmfgwuxrvmgsfdrxrvajgeybbcbexwtfheywyegywwmyrrjbcjnsjgrewfajttxyefmxdagncgwfvwnyfrcwsjhbtdhenuvwrsytejvswtetrtfxwrnxmsyytshrrvvawdjevesjsujbhjycghgdcbbbdvajunntrxjxwedsaxgsyfjmgbnycwvvabvnhfcmtvwfshcwdbtxbxudtrrxeunrryfwhcnswbbdvmvsdfyruhjsajsjxbewfcycvcxymubsvtmjamwtrmvfbmwvfxbguvadferxhbvbutamvtgvhftnffxjwmrcdsadffebmrhxmjnsfxhamhurtrsfthgajxymaxaxmywsbfsjhcgsabsufsdxbsayhhudrxmaamanefwmvtstattjevfcevcbngnubfhaxcfcegbfvdwbyvvbvahygfgccdebxxawxmujvhhwaawnmscxhgeuubwvescyyyjrmwgvbttabtjvhcvcwxvnfxxxyrcjasfddaahvjsrrmhmahwaayxgbsjdyuuuxueeyrhrbrevbxgyauxcagsxsatxahnaxjdhsvedcwmnwfabmjvjdyvtwsadbhgdwuegwhxvdcnjevaebcdsrhuxbgfeubbtcbtnfneectutrabwtxryeefgdddjdagugjvmrxemjwemdhyegawhaumnwtasjruehxugjvrfrareyufryttfmxsaxcasefyrjsftxrayxmmhhwvntxcdwvyfcacmuntbeevtnueydaccwvgtywsfrfeuxsyxhuhvuvvneumgfbaxwbdxbwucdduevnerywfweammrenvjwsmxafascusyjgxjshjffvddeaavgnntbafsethjvbbnfthsvumguhsfhawgxabfenvaxtjddhhytabrngdncgevvanmyfjtstmjwxvjmxmshejsjrsaedxnfrrnyjubcsccxvudbfmemsbcbjgrucdfbmxcbguvgyymbcrdvyjxgadrjwveutsfssjgrxfcgfbnyfbcfarmbewxrmagtmtxtdwdcbjmvgysceafcfeccehmfnrayscavgywcbhbrthtdcfyfsrwsgrnerdxeswwxbbrmdgnhunncscenmhgjejergbxhssuxxhrytyhvcuyjtvxssyejvyhccwtuamtnmreucvugcurddtyjgagtgwhfaubwybnfuyyfhufehyncxgrhamxyhrmdbmsuxmjxnvnfeyvmssdsvrmccumgfemvtvwxxmfmwrtayfasavjjcjtadehhctyncnnduucvjjhfbxwtxsthvyyggyrdnjrrycvcgyhrnvebfysymfxaygruvdngweecnwjmwdcfjrcudaredrhunjncrxxgajccedeehemyvtveejsgxeahfwyghfhtcjagacgjxtjmcbgxggstnrfhsgnwvmymehuhrdtdmwegdxrmdfnbmhhfchjguamavwhhrfutsmwnvxaamenvsgjwsmcecufuefvunmtmygjyetchxjxagmwefeutbmtynesuyfffeyeeyuuvrbeeyhynrnecwubhvgutesbtdcjwywnsyduaxervemjsggvvecctfwcwcvmgyfbmeyjvgedgbdrdwwdtrhhfxdmxnudnbadmgaymfxygmtbutjymhbhssddcvsdsemvusuchdwrmmsddbynjshjbexgsacefdrynjcyhhdmsetuxtbswhwdjnybabwssdfucctxbfssseuwuuvdvmywsmusawhgnantmrcxyuvcuegjrmufwsedjcgfttnvsbrcuuwfvcceacubnxgnjxusghsvsffbhrtvjufxrecggnhgtvceevwmvffcutvyeyrrdthvmcafdghnnhxecwbfsaefxwgjhrubcwbaxttbfcwwgjxuycyytddbgbmxvgmnmrxaytxhusartmsdmegxwnudhbenmrwecwvawjhngwhvdfbumhrmngwvuwedyfaucmsvjhdevybsbstahetdyxggudrdcbvchymfajtenffsxyhuhbaajdvjbtmwmjhbhdehyrxvvcvhbwrbncyddagjusnvjbahjsfwdx']"
            ]
          },
          "metadata": {},
          "execution_count": 179
        }
      ]
    },
    {
      "cell_type": "code",
      "metadata": {
        "id": "owXhW3AxWqme"
      },
      "source": [
        "# это задание решил самостоятельно, ничего не гуглил. \n",
        "# мое решение подошло для этих примеров.\n",
        "# проверил себя и вспомнил, что для некоторых случаев необходимо внутреннее условие while left < right, дописал его.\n",
        "\n",
        "def palindrome_solution(string):\n",
        "\n",
        "  left = 0\n",
        "  right = len(string) - 1\n",
        "\n",
        "  string = string.lower()\n",
        "\n",
        "  while left < right:\n",
        "\n",
        "    while left < right and not string[left].isalnum():\n",
        "      left += 1\n",
        "\n",
        "    while left < right and not string[right].isalnum():\n",
        "      right -= 1\n",
        "\n",
        "    if string[left].lower() != string[right].lower():\n",
        "\n",
        "      return False\n",
        "\n",
        "    left +=1\n",
        "\n",
        "    right -=1\n",
        "\n",
        "  return True\n",
        "\n"
      ],
      "execution_count": 258,
      "outputs": []
    },
    {
      "cell_type": "code",
      "source": [
        "palindrome_solution('абвг!_. гвб...???.а')"
      ],
      "metadata": {
        "colab": {
          "base_uri": "https://localhost:8080/"
        },
        "id": "m3t4a3KthCIu",
        "outputId": "ec225be1-f94e-4168-dc00-f967f9fd2466"
      },
      "execution_count": 259,
      "outputs": [
        {
          "output_type": "execute_result",
          "data": {
            "text/plain": [
              "True"
            ]
          },
          "metadata": {},
          "execution_count": 259
        }
      ]
    },
    {
      "cell_type": "code",
      "source": [
        "# проверяем строчки из задания. сгенерированная палиндромная строка:\n",
        "\n",
        "palindrome_solution(test_strings[3])"
      ],
      "metadata": {
        "colab": {
          "base_uri": "https://localhost:8080/"
        },
        "id": "v6q7NcB-ilJz",
        "outputId": "e88227ed-9b43-4478-cbed-a1e0757509e5"
      },
      "execution_count": 260,
      "outputs": [
        {
          "output_type": "execute_result",
          "data": {
            "text/plain": [
              "True"
            ]
          },
          "metadata": {},
          "execution_count": 260
        }
      ]
    },
    {
      "cell_type": "code",
      "source": [
        "#  проверяем строчки из задания. сгенерированная непалиндромная строка:\n",
        "\n",
        "palindrome_solution(test_strings[4])"
      ],
      "metadata": {
        "colab": {
          "base_uri": "https://localhost:8080/"
        },
        "id": "MRshFbifkHO_",
        "outputId": "a0dec353-a717-494e-d4d7-b1b19d77321d"
      },
      "execution_count": 261,
      "outputs": [
        {
          "output_type": "execute_result",
          "data": {
            "text/plain": [
              "False"
            ]
          },
          "metadata": {},
          "execution_count": 261
        }
      ]
    },
    {
      "cell_type": "markdown",
      "metadata": {
        "id": "xSDxEqSGWiFG"
      },
      "source": [
        "# ML"
      ]
    },
    {
      "cell_type": "markdown",
      "metadata": {
        "id": "qXBUPJrrWlG9"
      },
      "source": [
        "* устные вопросы"
      ]
    },
    {
      "cell_type": "code",
      "metadata": {
        "id": "_oUKh95IWkMl"
      },
      "source": [
        ";)"
      ],
      "execution_count": null,
      "outputs": []
    }
  ]
}